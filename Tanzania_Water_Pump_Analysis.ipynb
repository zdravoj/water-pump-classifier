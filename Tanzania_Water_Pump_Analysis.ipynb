{
 "cells": [
  {
   "cell_type": "markdown",
   "metadata": {},
   "source": [
    "# Tanzania Water Pump Dataset Analysis\n",
    "\n",
    "The Tanzanian government has worked with for-profit and non-profit organizations to build water pumps across Tanzania to provide its denizens with potable water. These pumps need maintenance to continue to operate. Before the repair teams can be sent, they need to know which pumps need replacement or repair. It is expensive and time-consuming to send teams to all water pumps to determine which are non-functional. The purpose of this dataset analysis is to create a machine learning algorithm that can determine which pumps are non-functional to save the time and money of the Tanzanian government and its cooperative organizations.\n",
    "\n",
    "This data was from a private Kaggle competition held by BloomTech for its DS36 Data Science cohort; its data mirrors that of the community Kaggle competition.\n",
    "\n",
    "The evaluation metric of the community competition was AUC; the evaluation metric of the BloomTech competition was classification accuracy. This analysis will be using the latter as its evaluation metric."
   ]
  },
  {
   "cell_type": "markdown",
   "metadata": {},
   "source": [
    "## Import Libraries\n",
    "\n",
    "All libraries used will be consolidated here."
   ]
  },
  {
   "cell_type": "code",
   "execution_count": null,
   "metadata": {},
   "outputs": [],
   "source": [
    "%pip install category_encoders==2.*"
   ]
  },
  {
   "cell_type": "code",
   "execution_count": 2,
   "metadata": {},
   "outputs": [],
   "source": [
    "import warnings\n",
    "warnings.filterwarnings('ignore')"
   ]
  },
  {
   "cell_type": "code",
   "execution_count": 3,
   "metadata": {},
   "outputs": [],
   "source": [
    "import numpy as np\n",
    "import pandas as pd\n",
    "\n",
    "import matplotlib.pyplot as plt\n",
    "import seaborn as sns\n",
    "\n",
    "from scipy.stats import chi2_contingency\n",
    "\n",
    "from category_encoders import OrdinalEncoder\n",
    "from sklearn.model_selection import train_test_split\n",
    "from sklearn.linear_model import LogisticRegression\n",
    "from sklearn.tree import DecisionTreeClassifier\n",
    "from sklearn.ensemble import RandomForestClassifier, GradientBoostingClassifier\n",
    "from sklearn.pipeline import make_pipeline\n",
    "from sklearn.impute import SimpleImputer\n",
    "from sklearn.model_selection import RandomizedSearchCV, GridSearchCV, cross_val_score\n",
    "from sklearn.inspection import permutation_importance\n",
    "from xgboost import XGBClassifier"
   ]
  },
  {
   "cell_type": "markdown",
   "metadata": {},
   "source": [
    "## Exploratory Data Analysis (EDA) 1\n",
    "\n",
    "The data must be loaded, cleaned, and understood before it can be used effectively in a machine learning model. This is a cursory EDA, intended to:\n",
    "1. Convert ambiguous or incorrect datatypes.\n",
    "2. Determine null values and convert possible null values (e.g. [0, 0] for longitude and latitude)\n",
    "3. Determine and remove high cardinality columns.\n",
    "4. Determine and remove duplicate value columns.\n"
   ]
  },
  {
   "cell_type": "markdown",
   "metadata": {},
   "source": [
    "### Load data"
   ]
  },
  {
   "cell_type": "code",
   "execution_count": 4,
   "metadata": {},
   "outputs": [],
   "source": [
    "# load data into dataframe\n",
    "df = pd.merge(pd.read_csv('train_labels.csv').set_index('id'),\n",
    "              pd.read_csv('train_features.csv').set_index('id'),\n",
    "              left_index=True,\n",
    "              right_index=True\n",
    "              )"
   ]
  },
  {
   "cell_type": "code",
   "execution_count": 5,
   "metadata": {},
   "outputs": [
    {
     "data": {
      "text/html": [
       "<div>\n",
       "<style scoped>\n",
       "    .dataframe tbody tr th:only-of-type {\n",
       "        vertical-align: middle;\n",
       "    }\n",
       "\n",
       "    .dataframe tbody tr th {\n",
       "        vertical-align: top;\n",
       "    }\n",
       "\n",
       "    .dataframe thead th {\n",
       "        text-align: right;\n",
       "    }\n",
       "</style>\n",
       "<table border=\"1\" class=\"dataframe\">\n",
       "  <thead>\n",
       "    <tr style=\"text-align: right;\">\n",
       "      <th></th>\n",
       "      <th>status_group</th>\n",
       "      <th>amount_tsh</th>\n",
       "      <th>date_recorded</th>\n",
       "      <th>funder</th>\n",
       "      <th>gps_height</th>\n",
       "      <th>installer</th>\n",
       "      <th>longitude</th>\n",
       "      <th>latitude</th>\n",
       "      <th>wpt_name</th>\n",
       "      <th>num_private</th>\n",
       "      <th>...</th>\n",
       "      <th>payment_type</th>\n",
       "      <th>water_quality</th>\n",
       "      <th>quality_group</th>\n",
       "      <th>quantity</th>\n",
       "      <th>quantity_group</th>\n",
       "      <th>source</th>\n",
       "      <th>source_type</th>\n",
       "      <th>source_class</th>\n",
       "      <th>waterpoint_type</th>\n",
       "      <th>waterpoint_type_group</th>\n",
       "    </tr>\n",
       "    <tr>\n",
       "      <th>id</th>\n",
       "      <th></th>\n",
       "      <th></th>\n",
       "      <th></th>\n",
       "      <th></th>\n",
       "      <th></th>\n",
       "      <th></th>\n",
       "      <th></th>\n",
       "      <th></th>\n",
       "      <th></th>\n",
       "      <th></th>\n",
       "      <th></th>\n",
       "      <th></th>\n",
       "      <th></th>\n",
       "      <th></th>\n",
       "      <th></th>\n",
       "      <th></th>\n",
       "      <th></th>\n",
       "      <th></th>\n",
       "      <th></th>\n",
       "      <th></th>\n",
       "      <th></th>\n",
       "    </tr>\n",
       "  </thead>\n",
       "  <tbody>\n",
       "    <tr>\n",
       "      <th>454</th>\n",
       "      <td>functional</td>\n",
       "      <td>50.0</td>\n",
       "      <td>2013-02-27</td>\n",
       "      <td>Dmdd</td>\n",
       "      <td>2092</td>\n",
       "      <td>DMDD</td>\n",
       "      <td>35.426020</td>\n",
       "      <td>-4.227446</td>\n",
       "      <td>Narmo</td>\n",
       "      <td>0</td>\n",
       "      <td>...</td>\n",
       "      <td>per bucket</td>\n",
       "      <td>soft</td>\n",
       "      <td>good</td>\n",
       "      <td>insufficient</td>\n",
       "      <td>insufficient</td>\n",
       "      <td>spring</td>\n",
       "      <td>spring</td>\n",
       "      <td>groundwater</td>\n",
       "      <td>communal standpipe</td>\n",
       "      <td>communal standpipe</td>\n",
       "    </tr>\n",
       "    <tr>\n",
       "      <th>510</th>\n",
       "      <td>functional</td>\n",
       "      <td>0.0</td>\n",
       "      <td>2011-03-17</td>\n",
       "      <td>Cmsr</td>\n",
       "      <td>0</td>\n",
       "      <td>Gove</td>\n",
       "      <td>35.510074</td>\n",
       "      <td>-5.724555</td>\n",
       "      <td>Lukali</td>\n",
       "      <td>0</td>\n",
       "      <td>...</td>\n",
       "      <td>never pay</td>\n",
       "      <td>soft</td>\n",
       "      <td>good</td>\n",
       "      <td>enough</td>\n",
       "      <td>enough</td>\n",
       "      <td>shallow well</td>\n",
       "      <td>shallow well</td>\n",
       "      <td>groundwater</td>\n",
       "      <td>hand pump</td>\n",
       "      <td>hand pump</td>\n",
       "    </tr>\n",
       "    <tr>\n",
       "      <th>14146</th>\n",
       "      <td>non functional</td>\n",
       "      <td>0.0</td>\n",
       "      <td>2011-07-10</td>\n",
       "      <td>Kkkt</td>\n",
       "      <td>0</td>\n",
       "      <td>KKKT</td>\n",
       "      <td>32.499866</td>\n",
       "      <td>-9.081222</td>\n",
       "      <td>Mahakama</td>\n",
       "      <td>0</td>\n",
       "      <td>...</td>\n",
       "      <td>never pay</td>\n",
       "      <td>soft</td>\n",
       "      <td>good</td>\n",
       "      <td>enough</td>\n",
       "      <td>enough</td>\n",
       "      <td>shallow well</td>\n",
       "      <td>shallow well</td>\n",
       "      <td>groundwater</td>\n",
       "      <td>other</td>\n",
       "      <td>other</td>\n",
       "    </tr>\n",
       "    <tr>\n",
       "      <th>47410</th>\n",
       "      <td>non functional</td>\n",
       "      <td>0.0</td>\n",
       "      <td>2011-04-12</td>\n",
       "      <td>NaN</td>\n",
       "      <td>0</td>\n",
       "      <td>NaN</td>\n",
       "      <td>34.060484</td>\n",
       "      <td>-8.830208</td>\n",
       "      <td>Shule Ya Msingi Chosi A</td>\n",
       "      <td>0</td>\n",
       "      <td>...</td>\n",
       "      <td>monthly</td>\n",
       "      <td>soft</td>\n",
       "      <td>good</td>\n",
       "      <td>insufficient</td>\n",
       "      <td>insufficient</td>\n",
       "      <td>river</td>\n",
       "      <td>river/lake</td>\n",
       "      <td>surface</td>\n",
       "      <td>communal standpipe</td>\n",
       "      <td>communal standpipe</td>\n",
       "    </tr>\n",
       "    <tr>\n",
       "      <th>1288</th>\n",
       "      <td>non functional</td>\n",
       "      <td>300.0</td>\n",
       "      <td>2011-04-05</td>\n",
       "      <td>Ki</td>\n",
       "      <td>1023</td>\n",
       "      <td>Ki</td>\n",
       "      <td>37.032690</td>\n",
       "      <td>-6.040787</td>\n",
       "      <td>Kwa Mjowe</td>\n",
       "      <td>0</td>\n",
       "      <td>...</td>\n",
       "      <td>on failure</td>\n",
       "      <td>salty</td>\n",
       "      <td>salty</td>\n",
       "      <td>enough</td>\n",
       "      <td>enough</td>\n",
       "      <td>shallow well</td>\n",
       "      <td>shallow well</td>\n",
       "      <td>groundwater</td>\n",
       "      <td>other</td>\n",
       "      <td>other</td>\n",
       "    </tr>\n",
       "  </tbody>\n",
       "</table>\n",
       "<p>5 rows × 40 columns</p>\n",
       "</div>"
      ],
      "text/plain": [
       "         status_group  amount_tsh date_recorded funder  gps_height installer  \\\n",
       "id                                                                             \n",
       "454        functional        50.0    2013-02-27   Dmdd        2092      DMDD   \n",
       "510        functional         0.0    2011-03-17   Cmsr           0      Gove   \n",
       "14146  non functional         0.0    2011-07-10   Kkkt           0      KKKT   \n",
       "47410  non functional         0.0    2011-04-12    NaN           0       NaN   \n",
       "1288   non functional       300.0    2011-04-05     Ki        1023        Ki   \n",
       "\n",
       "       longitude  latitude                 wpt_name  num_private  ...  \\\n",
       "id                                                                ...   \n",
       "454    35.426020 -4.227446                    Narmo            0  ...   \n",
       "510    35.510074 -5.724555                   Lukali            0  ...   \n",
       "14146  32.499866 -9.081222                 Mahakama            0  ...   \n",
       "47410  34.060484 -8.830208  Shule Ya Msingi Chosi A            0  ...   \n",
       "1288   37.032690 -6.040787                Kwa Mjowe            0  ...   \n",
       "\n",
       "      payment_type water_quality quality_group      quantity  quantity_group  \\\n",
       "id                                                                             \n",
       "454     per bucket          soft          good  insufficient    insufficient   \n",
       "510      never pay          soft          good        enough          enough   \n",
       "14146    never pay          soft          good        enough          enough   \n",
       "47410      monthly          soft          good  insufficient    insufficient   \n",
       "1288    on failure         salty         salty        enough          enough   \n",
       "\n",
       "             source   source_type  source_class     waterpoint_type  \\\n",
       "id                                                                    \n",
       "454          spring        spring   groundwater  communal standpipe   \n",
       "510    shallow well  shallow well   groundwater           hand pump   \n",
       "14146  shallow well  shallow well   groundwater               other   \n",
       "47410         river    river/lake       surface  communal standpipe   \n",
       "1288   shallow well  shallow well   groundwater               other   \n",
       "\n",
       "      waterpoint_type_group  \n",
       "id                           \n",
       "454      communal standpipe  \n",
       "510               hand pump  \n",
       "14146                 other  \n",
       "47410    communal standpipe  \n",
       "1288                  other  \n",
       "\n",
       "[5 rows x 40 columns]"
      ]
     },
     "execution_count": 5,
     "metadata": {},
     "output_type": "execute_result"
    }
   ],
   "source": [
    "# view first 5 rows of dataframe\n",
    "df.head()"
   ]
  },
  {
   "cell_type": "code",
   "execution_count": 6,
   "metadata": {},
   "outputs": [
    {
     "name": "stdout",
     "output_type": "stream",
     "text": [
      "Rows: 47520, Columns: 40\n"
     ]
    }
   ],
   "source": [
    "# dataframe shape\n",
    "print(f\"Rows: {df.shape[0]}, Columns: {df.shape[1]}\")"
   ]
  },
  {
   "cell_type": "code",
   "execution_count": 7,
   "metadata": {},
   "outputs": [
    {
     "name": "stdout",
     "output_type": "stream",
     "text": [
      "<class 'pandas.core.frame.DataFrame'>\n",
      "Int64Index: 47520 entries, 454 to 23812\n",
      "Data columns (total 40 columns):\n",
      " #   Column                 Non-Null Count  Dtype  \n",
      "---  ------                 --------------  -----  \n",
      " 0   status_group           47520 non-null  object \n",
      " 1   amount_tsh             47520 non-null  float64\n",
      " 2   date_recorded          47520 non-null  object \n",
      " 3   funder                 44644 non-null  object \n",
      " 4   gps_height             47520 non-null  int64  \n",
      " 5   installer              44631 non-null  object \n",
      " 6   longitude              47520 non-null  float64\n",
      " 7   latitude               47520 non-null  float64\n",
      " 8   wpt_name               47520 non-null  object \n",
      " 9   num_private            47520 non-null  int64  \n",
      " 10  basin                  47520 non-null  object \n",
      " 11  subvillage             47224 non-null  object \n",
      " 12  region                 47520 non-null  object \n",
      " 13  region_code            47520 non-null  int64  \n",
      " 14  district_code          47520 non-null  int64  \n",
      " 15  lga                    47520 non-null  object \n",
      " 16  ward                   47520 non-null  object \n",
      " 17  population             47520 non-null  int64  \n",
      " 18  public_meeting         44831 non-null  object \n",
      " 19  recorded_by            47520 non-null  object \n",
      " 20  scheme_management      44418 non-null  object \n",
      " 21  scheme_name            24997 non-null  object \n",
      " 22  permit                 45081 non-null  object \n",
      " 23  construction_year      47520 non-null  int64  \n",
      " 24  extraction_type        47520 non-null  object \n",
      " 25  extraction_type_group  47520 non-null  object \n",
      " 26  extraction_type_class  47520 non-null  object \n",
      " 27  management             47520 non-null  object \n",
      " 28  management_group       47520 non-null  object \n",
      " 29  payment                47520 non-null  object \n",
      " 30  payment_type           47520 non-null  object \n",
      " 31  water_quality          47520 non-null  object \n",
      " 32  quality_group          47520 non-null  object \n",
      " 33  quantity               47520 non-null  object \n",
      " 34  quantity_group         47520 non-null  object \n",
      " 35  source                 47520 non-null  object \n",
      " 36  source_type            47520 non-null  object \n",
      " 37  source_class           47520 non-null  object \n",
      " 38  waterpoint_type        47520 non-null  object \n",
      " 39  waterpoint_type_group  47520 non-null  object \n",
      "dtypes: float64(3), int64(6), object(31)\n",
      "memory usage: 15.9+ MB\n"
     ]
    }
   ],
   "source": [
    "# dataframe info\n",
    "df.info()"
   ]
  },
  {
   "cell_type": "markdown",
   "metadata": {},
   "source": [
    "### Convert Incorrect Datatypes"
   ]
  },
  {
   "cell_type": "code",
   "execution_count": 8,
   "metadata": {},
   "outputs": [
    {
     "data": {
      "text/plain": [
       "Index(['status_group', 'date_recorded', 'funder', 'installer', 'wpt_name',\n",
       "       'basin', 'subvillage', 'region', 'lga', 'ward', 'public_meeting',\n",
       "       'recorded_by', 'scheme_management', 'scheme_name', 'permit',\n",
       "       'extraction_type', 'extraction_type_group', 'extraction_type_class',\n",
       "       'management', 'management_group', 'payment', 'payment_type',\n",
       "       'water_quality', 'quality_group', 'quantity', 'quantity_group',\n",
       "       'source', 'source_type', 'source_class', 'waterpoint_type',\n",
       "       'waterpoint_type_group'],\n",
       "      dtype='object')"
      ]
     },
     "execution_count": 8,
     "metadata": {},
     "output_type": "execute_result"
    }
   ],
   "source": [
    "# columns of object type\n",
    "df.select_dtypes('object').columns"
   ]
  },
  {
   "cell_type": "code",
   "execution_count": 9,
   "metadata": {},
   "outputs": [
    {
     "data": {
      "text/plain": [
       "Index(['amount_tsh', 'gps_height', 'longitude', 'latitude', 'num_private',\n",
       "       'region_code', 'district_code', 'population', 'construction_year'],\n",
       "      dtype='object')"
      ]
     },
     "execution_count": 9,
     "metadata": {},
     "output_type": "execute_result"
    }
   ],
   "source": [
    "# columns of non-object type\n",
    "df.select_dtypes(exclude='object').columns"
   ]
  },
  {
   "cell_type": "markdown",
   "metadata": {},
   "source": [
    "'date_recorded' and 'constuction_year' are both datetimes.\n",
    "- 'date_recorded' is the date the pump's functionality was reported.\n",
    "- 'construction_year' is the year the pump was constructed.\n",
    "\n",
    "It is tempting to only use construction year for the analysis and drop 'date_recorded', but comparing the pump year to the current year does not account for possible changes in pump functionality between 'date_recorded' and the current year. These values work in tandem to provide the pump age. Pump age will be created in the feature engineering section, but setting the data types of 'date_recorded' and 'construction_year' now will make it easier to create this variable in the future.\n",
    "\n",
    "Additionally, because 'construction_year' only measures the year the pump was constructed, and not the exact date, it does not provide an exact comparison to 'date_recorded'. To best account for pump age, 'date_recorded' will be rounded to the nearest year."
   ]
  },
  {
   "cell_type": "code",
   "execution_count": 10,
   "metadata": {},
   "outputs": [
    {
     "name": "stdout",
     "output_type": "stream",
     "text": [
      "id\n",
      "454      2013\n",
      "510      2011\n",
      "14146    2012\n",
      "47410    2011\n",
      "1288     2011\n",
      "Name: date_recorded, dtype: int64\n",
      "id\n",
      "454      1998\n",
      "510         0\n",
      "14146       0\n",
      "47410       0\n",
      "1288     1997\n",
      "Name: construction_year, dtype: int64\n"
     ]
    }
   ],
   "source": [
    "# convert 'date_recorded' to datetime\n",
    "df['date_recorded'] = pd.to_datetime(df['date_recorded'])\n",
    "# year rounding function\n",
    "def round_date_to_nearest_year(dt):\n",
    "    if dt.month <= 6:\n",
    "        return dt.year\n",
    "    else:\n",
    "        return dt.year + 1\n",
    "# apply rounding function\n",
    "df['date_recorded'] = df['date_recorded'].map(round_date_to_nearest_year)\n",
    "\n",
    "print(df['date_recorded'].head())\n",
    "print(df['construction_year'].head())"
   ]
  },
  {
   "cell_type": "code",
   "execution_count": 11,
   "metadata": {},
   "outputs": [
    {
     "data": {
      "text/plain": [
       "status_group                 3\n",
       "amount_tsh                  96\n",
       "date_recorded                6\n",
       "funder                    1698\n",
       "gps_height                2401\n",
       "installer                 1923\n",
       "longitude                46043\n",
       "latitude                 46044\n",
       "wpt_name                 30742\n",
       "num_private                 59\n",
       "basin                        9\n",
       "subvillage               17232\n",
       "region                      21\n",
       "region_code                 27\n",
       "district_code               20\n",
       "lga                        125\n",
       "ward                      2076\n",
       "population                 971\n",
       "public_meeting               2\n",
       "recorded_by                  1\n",
       "scheme_management           12\n",
       "scheme_name               2541\n",
       "permit                       2\n",
       "construction_year           55\n",
       "extraction_type             18\n",
       "extraction_type_group       13\n",
       "extraction_type_class        7\n",
       "management                  12\n",
       "management_group             5\n",
       "payment                      7\n",
       "payment_type                 7\n",
       "water_quality                8\n",
       "quality_group                6\n",
       "quantity                     5\n",
       "quantity_group               5\n",
       "source                      10\n",
       "source_type                  7\n",
       "source_class                 3\n",
       "waterpoint_type              7\n",
       "waterpoint_type_group        6\n",
       "dtype: int64"
      ]
     },
     "execution_count": 11,
     "metadata": {},
     "output_type": "execute_result"
    }
   ],
   "source": [
    "# number of unique values by column\n",
    "df.nunique()"
   ]
  },
  {
   "cell_type": "code",
   "execution_count": 12,
   "metadata": {},
   "outputs": [
    {
     "data": {
      "text/plain": [
       "array(['GeoData Consultants Ltd'], dtype=object)"
      ]
     },
     "execution_count": 12,
     "metadata": {},
     "output_type": "execute_result"
    }
   ],
   "source": [
    "df['recorded_by'].unique()"
   ]
  },
  {
   "cell_type": "markdown",
   "metadata": {},
   "source": [
    "'recorded_by' has a single unique value, so this column can be dropped."
   ]
  },
  {
   "cell_type": "code",
   "execution_count": 13,
   "metadata": {},
   "outputs": [],
   "source": [
    "df.drop(columns=['recorded_by'], inplace=True)"
   ]
  },
  {
   "cell_type": "markdown",
   "metadata": {},
   "source": [
    "Some of the columns have very few values, indicating that these might be boolean columns. Some columns that should be boolean may contain extraneous values; the following code accounts for this."
   ]
  },
  {
   "cell_type": "code",
   "execution_count": 14,
   "metadata": {},
   "outputs": [
    {
     "data": {
      "text/plain": [
       "status_group      3\n",
       "public_meeting    2\n",
       "permit            2\n",
       "source_class      3\n",
       "dtype: int64"
      ]
     },
     "execution_count": 14,
     "metadata": {},
     "output_type": "execute_result"
    }
   ],
   "source": [
    "# possible boolean columns\n",
    "df.nunique()[df.nunique() < 5]"
   ]
  },
  {
   "cell_type": "code",
   "execution_count": 15,
   "metadata": {},
   "outputs": [
    {
     "data": {
      "text/plain": [
       "[array(['functional', 'non functional', 'functional needs repair'],\n",
       "       dtype=object),\n",
       " array([True, False, nan], dtype=object),\n",
       " array([True, False, nan], dtype=object),\n",
       " array(['groundwater', 'surface', 'unknown'], dtype=object)]"
      ]
     },
     "execution_count": 15,
     "metadata": {},
     "output_type": "execute_result"
    }
   ],
   "source": [
    "# value types for possible boolean columns\n",
    "[df[column].unique() for column in df[['status_group', 'public_meeting', 'permit', 'source_class']]]"
   ]
  },
  {
   "cell_type": "markdown",
   "metadata": {},
   "source": [
    "'public_meeting' and 'permit' are booleans. However, conversion to boolean datatypes yields null values of `NAType` which cannot be parsed by the simple imputer used in the modeling step. For ease of use, these columns will be left as object types, but will be parsed by the imputer and models as booleans."
   ]
  },
  {
   "cell_type": "code",
   "execution_count": 16,
   "metadata": {},
   "outputs": [
    {
     "name": "stdout",
     "output_type": "stream",
     "text": [
      "<class 'pandas.core.frame.DataFrame'>\n",
      "Int64Index: 47520 entries, 454 to 23812\n",
      "Data columns (total 39 columns):\n",
      " #   Column                 Non-Null Count  Dtype  \n",
      "---  ------                 --------------  -----  \n",
      " 0   status_group           47520 non-null  object \n",
      " 1   amount_tsh             47520 non-null  float64\n",
      " 2   date_recorded          47520 non-null  int64  \n",
      " 3   funder                 44644 non-null  object \n",
      " 4   gps_height             47520 non-null  int64  \n",
      " 5   installer              44631 non-null  object \n",
      " 6   longitude              47520 non-null  float64\n",
      " 7   latitude               47520 non-null  float64\n",
      " 8   wpt_name               47520 non-null  object \n",
      " 9   num_private            47520 non-null  int64  \n",
      " 10  basin                  47520 non-null  object \n",
      " 11  subvillage             47224 non-null  object \n",
      " 12  region                 47520 non-null  object \n",
      " 13  region_code            47520 non-null  int64  \n",
      " 14  district_code          47520 non-null  int64  \n",
      " 15  lga                    47520 non-null  object \n",
      " 16  ward                   47520 non-null  object \n",
      " 17  population             47520 non-null  int64  \n",
      " 18  public_meeting         44831 non-null  object \n",
      " 19  scheme_management      44418 non-null  object \n",
      " 20  scheme_name            24997 non-null  object \n",
      " 21  permit                 45081 non-null  object \n",
      " 22  construction_year      47520 non-null  int64  \n",
      " 23  extraction_type        47520 non-null  object \n",
      " 24  extraction_type_group  47520 non-null  object \n",
      " 25  extraction_type_class  47520 non-null  object \n",
      " 26  management             47520 non-null  object \n",
      " 27  management_group       47520 non-null  object \n",
      " 28  payment                47520 non-null  object \n",
      " 29  payment_type           47520 non-null  object \n",
      " 30  water_quality          47520 non-null  object \n",
      " 31  quality_group          47520 non-null  object \n",
      " 32  quantity               47520 non-null  object \n",
      " 33  quantity_group         47520 non-null  object \n",
      " 34  source                 47520 non-null  object \n",
      " 35  source_type            47520 non-null  object \n",
      " 36  source_class           47520 non-null  object \n",
      " 37  waterpoint_type        47520 non-null  object \n",
      " 38  waterpoint_type_group  47520 non-null  object \n",
      "dtypes: float64(3), int64(7), object(29)\n",
      "memory usage: 15.5+ MB\n"
     ]
    }
   ],
   "source": [
    "# confirm changes to datatypes\n",
    "df.info()"
   ]
  },
  {
   "cell_type": "markdown",
   "metadata": {},
   "source": [
    "### Null Value EDA"
   ]
  },
  {
   "cell_type": "markdown",
   "metadata": {},
   "source": [
    "#### Explicit Null Values\n",
    "\n",
    "Explicit null values are nulls that explicity return nulls (does not contain a value in the csv)."
   ]
  },
  {
   "cell_type": "code",
   "execution_count": 17,
   "metadata": {},
   "outputs": [
    {
     "name": "stdout",
     "output_type": "stream",
     "text": [
      "funder                2876\n",
      "installer             2889\n",
      "subvillage             296\n",
      "public_meeting        2689\n",
      "scheme_management     3102\n",
      "scheme_name          22523\n",
      "permit                2439\n",
      "dtype: int64\n"
     ]
    }
   ],
   "source": [
    "# columns with null values > 0\n",
    "nullseries = df.isnull().sum()\n",
    "print(nullseries[nullseries > 0])"
   ]
  },
  {
   "cell_type": "code",
   "execution_count": 18,
   "metadata": {},
   "outputs": [
    {
     "name": "stdout",
     "output_type": "stream",
     "text": [
      "funder                6.05\n",
      "installer             6.08\n",
      "subvillage            0.62\n",
      "public_meeting        5.66\n",
      "scheme_management     6.53\n",
      "scheme_name          47.40\n",
      "permit                5.13\n",
      "dtype: float64\n"
     ]
    }
   ],
   "source": [
    "# percentage of null values\n",
    "just_nulls = nullseries[nullseries > 0]\n",
    "just_nulls = round(just_nulls / 47520 * 100, 2)\n",
    "print(just_nulls)"
   ]
  },
  {
   "cell_type": "markdown",
   "metadata": {},
   "source": [
    "Almost half of the values in 'scheme_name' are nulls. Imputing values in this column will provide more noise than value, so 'scheme_name' will be dropped.\n",
    "\n",
    "Other null value percentages are all below 7%. These null values will be imputed."
   ]
  },
  {
   "cell_type": "code",
   "execution_count": 19,
   "metadata": {},
   "outputs": [],
   "source": [
    "# drop 'scheme_name' from dataframe\n",
    "df.drop(columns=['scheme_name'], inplace=True)"
   ]
  },
  {
   "cell_type": "markdown",
   "metadata": {},
   "source": [
    "#### Implicit Null Values\n",
    "\n",
    "Implicit null values are values that should be interpreted as nulls, but are expressed as a value in the data (e.g. [0, 0] for latitude and longitude)."
   ]
  },
  {
   "cell_type": "code",
   "execution_count": 20,
   "metadata": {},
   "outputs": [
    {
     "name": "stdout",
     "output_type": "stream",
     "text": [
      "Index(['amount_tsh', 'date_recorded', 'gps_height', 'longitude', 'latitude',\n",
      "       'num_private', 'region_code', 'district_code', 'population',\n",
      "       'construction_year'],\n",
      "      dtype='object')\n"
     ]
    }
   ],
   "source": [
    "# non-object, non-bool columns\n",
    "nonobj_columns = df.select_dtypes(exclude=['object', 'boolean'])\n",
    "print(nonobj_columns.columns)"
   ]
  },
  {
   "cell_type": "code",
   "execution_count": 21,
   "metadata": {},
   "outputs": [
    {
     "data": {
      "text/html": [
       "<div>\n",
       "<style scoped>\n",
       "    .dataframe tbody tr th:only-of-type {\n",
       "        vertical-align: middle;\n",
       "    }\n",
       "\n",
       "    .dataframe tbody tr th {\n",
       "        vertical-align: top;\n",
       "    }\n",
       "\n",
       "    .dataframe thead th {\n",
       "        text-align: right;\n",
       "    }\n",
       "</style>\n",
       "<table border=\"1\" class=\"dataframe\">\n",
       "  <thead>\n",
       "    <tr style=\"text-align: right;\">\n",
       "      <th></th>\n",
       "      <th>amount_tsh</th>\n",
       "      <th>date_recorded</th>\n",
       "      <th>gps_height</th>\n",
       "      <th>longitude</th>\n",
       "      <th>latitude</th>\n",
       "      <th>num_private</th>\n",
       "      <th>region_code</th>\n",
       "      <th>district_code</th>\n",
       "      <th>population</th>\n",
       "      <th>construction_year</th>\n",
       "    </tr>\n",
       "    <tr>\n",
       "      <th>id</th>\n",
       "      <th></th>\n",
       "      <th></th>\n",
       "      <th></th>\n",
       "      <th></th>\n",
       "      <th></th>\n",
       "      <th></th>\n",
       "      <th></th>\n",
       "      <th></th>\n",
       "      <th></th>\n",
       "      <th></th>\n",
       "    </tr>\n",
       "  </thead>\n",
       "  <tbody>\n",
       "    <tr>\n",
       "      <th>454</th>\n",
       "      <td>50.0</td>\n",
       "      <td>2013</td>\n",
       "      <td>2092</td>\n",
       "      <td>35.426020</td>\n",
       "      <td>-4.227446</td>\n",
       "      <td>0</td>\n",
       "      <td>21</td>\n",
       "      <td>1</td>\n",
       "      <td>160</td>\n",
       "      <td>1998</td>\n",
       "    </tr>\n",
       "    <tr>\n",
       "      <th>510</th>\n",
       "      <td>0.0</td>\n",
       "      <td>2011</td>\n",
       "      <td>0</td>\n",
       "      <td>35.510074</td>\n",
       "      <td>-5.724555</td>\n",
       "      <td>0</td>\n",
       "      <td>1</td>\n",
       "      <td>6</td>\n",
       "      <td>0</td>\n",
       "      <td>0</td>\n",
       "    </tr>\n",
       "    <tr>\n",
       "      <th>14146</th>\n",
       "      <td>0.0</td>\n",
       "      <td>2012</td>\n",
       "      <td>0</td>\n",
       "      <td>32.499866</td>\n",
       "      <td>-9.081222</td>\n",
       "      <td>0</td>\n",
       "      <td>12</td>\n",
       "      <td>6</td>\n",
       "      <td>0</td>\n",
       "      <td>0</td>\n",
       "    </tr>\n",
       "    <tr>\n",
       "      <th>47410</th>\n",
       "      <td>0.0</td>\n",
       "      <td>2011</td>\n",
       "      <td>0</td>\n",
       "      <td>34.060484</td>\n",
       "      <td>-8.830208</td>\n",
       "      <td>0</td>\n",
       "      <td>12</td>\n",
       "      <td>7</td>\n",
       "      <td>0</td>\n",
       "      <td>0</td>\n",
       "    </tr>\n",
       "    <tr>\n",
       "      <th>1288</th>\n",
       "      <td>300.0</td>\n",
       "      <td>2011</td>\n",
       "      <td>1023</td>\n",
       "      <td>37.032690</td>\n",
       "      <td>-6.040787</td>\n",
       "      <td>0</td>\n",
       "      <td>5</td>\n",
       "      <td>1</td>\n",
       "      <td>120</td>\n",
       "      <td>1997</td>\n",
       "    </tr>\n",
       "  </tbody>\n",
       "</table>\n",
       "</div>"
      ],
      "text/plain": [
       "       amount_tsh  date_recorded  gps_height  longitude  latitude  \\\n",
       "id                                                                  \n",
       "454          50.0           2013        2092  35.426020 -4.227446   \n",
       "510           0.0           2011           0  35.510074 -5.724555   \n",
       "14146         0.0           2012           0  32.499866 -9.081222   \n",
       "47410         0.0           2011           0  34.060484 -8.830208   \n",
       "1288        300.0           2011        1023  37.032690 -6.040787   \n",
       "\n",
       "       num_private  region_code  district_code  population  construction_year  \n",
       "id                                                                             \n",
       "454              0           21              1         160               1998  \n",
       "510              0            1              6           0                  0  \n",
       "14146            0           12              6           0                  0  \n",
       "47410            0           12              7           0                  0  \n",
       "1288             0            5              1         120               1997  "
      ]
     },
     "execution_count": 21,
     "metadata": {},
     "output_type": "execute_result"
    }
   ],
   "source": [
    "# smaller dataframe for easier viewing\n",
    "df_num = df[list(nonobj_columns)]\n",
    "df_num.head()"
   ]
  },
  {
   "cell_type": "code",
   "execution_count": 22,
   "metadata": {},
   "outputs": [
    {
     "data": {
      "image/png": "[encoded data removed]",
      "text/plain": [
       "<Figure size 432x288 with 1 Axes>"
      ]
     },
     "metadata": {
      "needs_background": "light"
     },
     "output_type": "display_data"
    }
   ],
   "source": [
    "df['amount_tsh'].hist(bins=50)\n",
    "plt.title('Histogram of amount_tsh');"
   ]
  },
  {
   "cell_type": "markdown",
   "metadata": {},
   "source": [
    "'amount_tsh' is heavily skewed with zeros. A cursory internet search indicates 'amount_tsh' is a pump calculation and zero is a legitimate value. **Implicit nulls cannot be assumed here.**"
   ]
  },
  {
   "cell_type": "code",
   "execution_count": 23,
   "metadata": {},
   "outputs": [
    {
     "data": {
      "image/png": "[encoded data removed]",
      "text/plain": [
       "<Figure size 432x288 with 1 Axes>"
      ]
     },
     "metadata": {
      "needs_background": "light"
     },
     "output_type": "display_data"
    }
   ],
   "source": [
    "df['date_recorded'].hist(bins=50)\n",
    "plt.title('Histogram of date_recorded');"
   ]
  },
  {
   "cell_type": "markdown",
   "metadata": {},
   "source": [
    "Most recordings happened between 2011 and 2014, but there are a handful of recordings back to 2004. We have no reason to believe any date was used as a placeholder (and should be considered null). **Implicit nulls cannot be assumed here.**"
   ]
  },
  {
   "cell_type": "code",
   "execution_count": 24,
   "metadata": {},
   "outputs": [
    {
     "data": {
      "image/png": "[encoded data removed]",
      "text/plain": [
       "<Figure size 432x288 with 1 Axes>"
      ]
     },
     "metadata": {
      "needs_background": "light"
     },
     "output_type": "display_data"
    }
   ],
   "source": [
    "df['gps_height'].hist(bins=50)\n",
    "plt.title('Histogram of gps_height');"
   ]
  },
  {
   "cell_type": "markdown",
   "metadata": {},
   "source": [
    "'gps_height' is heavily skewed with zeros. Since 'gps_height' represents altitude, and zero represents sea level, it is reasonable to believe that zeros were used as placeholders. Latitude and longitude data could be used to cross-reference an altitude map to determine exact altitude for zero-coded wells, but 'dialing in' the accuracy of the data like this is not suited for an initial EDA. **Implicit nulls cannot be assumed here.**"
   ]
  },
  {
   "cell_type": "code",
   "execution_count": 25,
   "metadata": {},
   "outputs": [
    {
     "data": {
      "image/png": "[encoded data removed]",
      "text/plain": [
       "<Figure size 432x288 with 1 Axes>"
      ]
     },
     "metadata": {
      "needs_background": "light"
     },
     "output_type": "display_data"
    }
   ],
   "source": [
    "df.plot(x='longitude', y='latitude', kind='scatter')\n",
    "plt.title('Map of pumps');"
   ]
  },
  {
   "cell_type": "markdown",
   "metadata": {},
   "source": [
    "\"Null Island\" strikes again. These values need to be replaced with nulls."
   ]
  },
  {
   "cell_type": "code",
   "execution_count": 26,
   "metadata": {},
   "outputs": [
    {
     "name": "stdout",
     "output_type": "stream",
     "text": [
      "29.6071219\n",
      "-2e-08\n"
     ]
    }
   ],
   "source": [
    "# longitude values purged of zero\n",
    "long_purged = df['longitude'][df['longitude'] > 0]\n",
    "# latitude values purged of zero\n",
    "lat_purged = df['latitude'][df['latitude'] < 0]\n",
    "\n",
    "# confirm \"Null Island\" values purged\n",
    "print(long_purged.min())\n",
    "print(lat_purged.max())"
   ]
  },
  {
   "cell_type": "markdown",
   "metadata": {},
   "source": [
    "Longitude values will be correct, but latitude still has values close to zero."
   ]
  },
  {
   "cell_type": "code",
   "execution_count": 27,
   "metadata": {},
   "outputs": [
    {
     "name": "stdout",
     "output_type": "stream",
     "text": [
      "-0.99846435\n"
     ]
    }
   ],
   "source": [
    "# latitude values purged of values close to zero\n",
    "lat_purged = df['latitude'][df['latitude'] < -0.1]\n",
    "\n",
    "# confirm \"Null Island\" values purged\n",
    "print(lat_purged.max())"
   ]
  },
  {
   "cell_type": "markdown",
   "metadata": {},
   "source": [
    "Much better. These values should be set to null."
   ]
  },
  {
   "cell_type": "code",
   "execution_count": 28,
   "metadata": {},
   "outputs": [],
   "source": [
    "# replace close-to-zero values in longitude and latitude with nulls\n",
    "df['longitude'].mask(df['longitude'].between(-0.1, 0.1), inplace=True)\n",
    "df['latitude'].mask(df['latitude'].between(-0.1, 0.1), inplace=True)"
   ]
  },
  {
   "cell_type": "code",
   "execution_count": 29,
   "metadata": {},
   "outputs": [
    {
     "name": "stdout",
     "output_type": "stream",
     "text": [
      "29.6071219\n",
      "-0.99846435\n"
     ]
    }
   ],
   "source": [
    "# confirm replacement of chosen values\n",
    "print(df['longitude'].min())\n",
    "print(df['latitude'].max())"
   ]
  },
  {
   "cell_type": "code",
   "execution_count": 30,
   "metadata": {},
   "outputs": [
    {
     "name": "stdout",
     "output_type": "stream",
     "text": [
      "True     46087\n",
      "False     1433\n",
      "Name: longitude, dtype: int64\n",
      "True     46087\n",
      "False     1433\n",
      "Name: latitude, dtype: int64\n"
     ]
    }
   ],
   "source": [
    "# confirm replacement of chosen values with nulls\n",
    "print(df['longitude'].notnull().value_counts())\n",
    "print(df['latitude'].notnull().value_counts())"
   ]
  },
  {
   "cell_type": "code",
   "execution_count": 31,
   "metadata": {},
   "outputs": [
    {
     "data": {
      "image/png": "[encoded data removed]",
      "text/plain": [
       "<Figure size 432x288 with 1 Axes>"
      ]
     },
     "metadata": {
      "needs_background": "light"
     },
     "output_type": "display_data"
    }
   ],
   "source": [
    "# re-plot longitude and latitude\n",
    "df.plot(x='longitude', y='latitude', kind='scatter')\n",
    "plt.title('Map of pumps');"
   ]
  },
  {
   "cell_type": "markdown",
   "metadata": {},
   "source": [
    "That looks a lot more like Tanzania. **Implicit nulls have been assumed and replaced.**"
   ]
  },
  {
   "cell_type": "code",
   "execution_count": 32,
   "metadata": {},
   "outputs": [
    {
     "data": {
      "image/png": "[encoded data removed]",
      "text/plain": [
       "<Figure size 432x288 with 1 Axes>"
      ]
     },
     "metadata": {
      "needs_background": "light"
     },
     "output_type": "display_data"
    }
   ],
   "source": [
    "df['num_private'].hist(bins=50)\n",
    "plt.title('Histogram of num_private');"
   ]
  },
  {
   "cell_type": "markdown",
   "metadata": {},
   "source": [
    "'num_private' is heavily skewed with zeros. There is no description for 'num_private' with the dataset. There is not enough information to assume that this column is noise, at least for this first iteration of EDA, so it will not be removed from the dataset. **Implicit nulls cannot be assumed here.**"
   ]
  },
  {
   "cell_type": "code",
   "execution_count": 33,
   "metadata": {},
   "outputs": [
    {
     "data": {
      "image/png": "[encoded data removed]",
      "text/plain": [
       "<Figure size 432x288 with 1 Axes>"
      ]
     },
     "metadata": {
      "needs_background": "light"
     },
     "output_type": "display_data"
    }
   ],
   "source": [
    "df['region_code'].hist(bins=50)\n",
    "plt.title('Histogram of region_code');"
   ]
  },
  {
   "cell_type": "markdown",
   "metadata": {},
   "source": [
    "'region_code' is categorical, and there are no zero-coded values. **Implicit nulls cannot be assumed here.**"
   ]
  },
  {
   "cell_type": "code",
   "execution_count": 34,
   "metadata": {},
   "outputs": [
    {
     "data": {
      "image/png": "[encoded data removed]",
      "text/plain": [
       "<Figure size 432x288 with 1 Axes>"
      ]
     },
     "metadata": {
      "needs_background": "light"
     },
     "output_type": "display_data"
    }
   ],
   "source": [
    "df['district_code'].hist(bins=50)\n",
    "plt.title('Histogram of district_code');"
   ]
  },
  {
   "cell_type": "code",
   "execution_count": 35,
   "metadata": {},
   "outputs": [
    {
     "data": {
      "text/plain": [
       "67       3\n",
       "80       8\n",
       "0       19\n",
       "60      55\n",
       "62      87\n",
       "63     157\n",
       "23     247\n",
       "13     313\n",
       "43     408\n",
       "53     607\n",
       "33     687\n",
       "30     795\n",
       "8      818\n",
       "7     2663\n",
       "6     3275\n",
       "5     3467\n",
       "4     7166\n",
       "3     7999\n",
       "2     8991\n",
       "1     9755\n",
       "Name: district_code, dtype: int64"
      ]
     },
     "execution_count": 35,
     "metadata": {},
     "output_type": "execute_result"
    }
   ],
   "source": [
    "df['district_code'].value_counts(ascending=True)"
   ]
  },
  {
   "cell_type": "markdown",
   "metadata": {},
   "source": [
    "'district_code' is categorical, but it does have some zero-coded values. There is not enough information to determine if a zero-coded district is a placeholder, or if zero is truly a district number. **Implicit nulls cannot be assumed here.**"
   ]
  },
  {
   "cell_type": "code",
   "execution_count": 36,
   "metadata": {},
   "outputs": [
    {
     "data": {
      "image/png": "[encoded data removed]",
      "text/plain": [
       "<Figure size 432x288 with 1 Axes>"
      ]
     },
     "metadata": {
      "needs_background": "light"
     },
     "output_type": "display_data"
    }
   ],
   "source": [
    "df['population'].hist(bins=50)\n",
    "plt.title('Histogram of population');"
   ]
  },
  {
   "cell_type": "markdown",
   "metadata": {},
   "source": [
    "'population' has plenty of zero-coded values, however, it is possible for a well to have a population of zero (well exists but there is no one in the area who uses it). We cannot differentiate between the wells which have a placeholder value of zero population and the wells which legitimately have zero population. **Implicit nulls cannot be assumed here.**"
   ]
  },
  {
   "cell_type": "code",
   "execution_count": 37,
   "metadata": {},
   "outputs": [
    {
     "data": {
      "image/png": "[encoded data removed]",
      "text/plain": [
       "<Figure size 432x288 with 1 Axes>"
      ]
     },
     "metadata": {
      "needs_background": "light"
     },
     "output_type": "display_data"
    }
   ],
   "source": [
    "df['construction_year'].hist(bins=50)\n",
    "plt.title('Histogram of construction_year');"
   ]
  },
  {
   "cell_type": "markdown",
   "metadata": {},
   "source": [
    "There are zero-coded values in 'construction_year'. It is safe to assume that these wells weren't build at the start of the Common Era, so these wells don't have a 'construction_year' value. We will have to impute these values later. For now, we will replace zero-coded values with a null."
   ]
  },
  {
   "cell_type": "code",
   "execution_count": 38,
   "metadata": {},
   "outputs": [],
   "source": [
    "# replace zero-coded values with nulls\n",
    "df['construction_year'].mask(df['construction_year'] == 0, inplace=True)"
   ]
  },
  {
   "cell_type": "code",
   "execution_count": 39,
   "metadata": {},
   "outputs": [
    {
     "data": {
      "image/png": "[encoded data removed]",
      "text/plain": [
       "<Figure size 432x288 with 1 Axes>"
      ]
     },
     "metadata": {
      "needs_background": "light"
     },
     "output_type": "display_data"
    }
   ],
   "source": [
    "df['construction_year'].hist(bins=20)\n",
    "plt.title('Histogram of construction_year');"
   ]
  },
  {
   "cell_type": "markdown",
   "metadata": {},
   "source": [
    "**Implicit nulls have been assumed and replaced.**"
   ]
  },
  {
   "cell_type": "markdown",
   "metadata": {},
   "source": [
    "It is also prudent to look through the object (text) columns to ensure that none of them have values that should be interpreted as null."
   ]
  },
  {
   "cell_type": "code",
   "execution_count": 40,
   "metadata": {},
   "outputs": [
    {
     "data": {
      "text/plain": [
       "Index(['status_group', 'funder', 'installer', 'wpt_name', 'basin',\n",
       "       'subvillage', 'region', 'lga', 'ward', 'public_meeting',\n",
       "       'scheme_management', 'permit', 'extraction_type',\n",
       "       'extraction_type_group', 'extraction_type_class', 'management',\n",
       "       'management_group', 'payment', 'payment_type', 'water_quality',\n",
       "       'quality_group', 'quantity', 'quantity_group', 'source', 'source_type',\n",
       "       'source_class', 'waterpoint_type', 'waterpoint_type_group'],\n",
       "      dtype='object')"
      ]
     },
     "execution_count": 40,
     "metadata": {},
     "output_type": "execute_result"
    }
   ],
   "source": [
    "# select columns of object type\n",
    "df_obj = df.select_dtypes('object')\n",
    "df_obj.columns"
   ]
  },
  {
   "cell_type": "code",
   "execution_count": 41,
   "metadata": {},
   "outputs": [
    {
     "data": {
      "text/html": [
       "<div>\n",
       "<style scoped>\n",
       "    .dataframe tbody tr th:only-of-type {\n",
       "        vertical-align: middle;\n",
       "    }\n",
       "\n",
       "    .dataframe tbody tr th {\n",
       "        vertical-align: top;\n",
       "    }\n",
       "\n",
       "    .dataframe thead th {\n",
       "        text-align: right;\n",
       "    }\n",
       "</style>\n",
       "<table border=\"1\" class=\"dataframe\">\n",
       "  <thead>\n",
       "    <tr style=\"text-align: right;\">\n",
       "      <th></th>\n",
       "      <th>status_group</th>\n",
       "      <th>funder</th>\n",
       "      <th>installer</th>\n",
       "      <th>wpt_name</th>\n",
       "      <th>basin</th>\n",
       "      <th>subvillage</th>\n",
       "      <th>region</th>\n",
       "      <th>lga</th>\n",
       "      <th>ward</th>\n",
       "      <th>public_meeting</th>\n",
       "      <th>...</th>\n",
       "      <th>payment_type</th>\n",
       "      <th>water_quality</th>\n",
       "      <th>quality_group</th>\n",
       "      <th>quantity</th>\n",
       "      <th>quantity_group</th>\n",
       "      <th>source</th>\n",
       "      <th>source_type</th>\n",
       "      <th>source_class</th>\n",
       "      <th>waterpoint_type</th>\n",
       "      <th>waterpoint_type_group</th>\n",
       "    </tr>\n",
       "    <tr>\n",
       "      <th>id</th>\n",
       "      <th></th>\n",
       "      <th></th>\n",
       "      <th></th>\n",
       "      <th></th>\n",
       "      <th></th>\n",
       "      <th></th>\n",
       "      <th></th>\n",
       "      <th></th>\n",
       "      <th></th>\n",
       "      <th></th>\n",
       "      <th></th>\n",
       "      <th></th>\n",
       "      <th></th>\n",
       "      <th></th>\n",
       "      <th></th>\n",
       "      <th></th>\n",
       "      <th></th>\n",
       "      <th></th>\n",
       "      <th></th>\n",
       "      <th></th>\n",
       "      <th></th>\n",
       "    </tr>\n",
       "  </thead>\n",
       "  <tbody>\n",
       "    <tr>\n",
       "      <th>454</th>\n",
       "      <td>functional</td>\n",
       "      <td>Dmdd</td>\n",
       "      <td>DMDD</td>\n",
       "      <td>Narmo</td>\n",
       "      <td>Internal</td>\n",
       "      <td>Bashnet Kati</td>\n",
       "      <td>Manyara</td>\n",
       "      <td>Babati</td>\n",
       "      <td>Bashinet</td>\n",
       "      <td>True</td>\n",
       "      <td>...</td>\n",
       "      <td>per bucket</td>\n",
       "      <td>soft</td>\n",
       "      <td>good</td>\n",
       "      <td>insufficient</td>\n",
       "      <td>insufficient</td>\n",
       "      <td>spring</td>\n",
       "      <td>spring</td>\n",
       "      <td>groundwater</td>\n",
       "      <td>communal standpipe</td>\n",
       "      <td>communal standpipe</td>\n",
       "    </tr>\n",
       "    <tr>\n",
       "      <th>510</th>\n",
       "      <td>functional</td>\n",
       "      <td>Cmsr</td>\n",
       "      <td>Gove</td>\n",
       "      <td>Lukali</td>\n",
       "      <td>Internal</td>\n",
       "      <td>Lukali</td>\n",
       "      <td>Dodoma</td>\n",
       "      <td>Bahi</td>\n",
       "      <td>Lamaiti</td>\n",
       "      <td>True</td>\n",
       "      <td>...</td>\n",
       "      <td>never pay</td>\n",
       "      <td>soft</td>\n",
       "      <td>good</td>\n",
       "      <td>enough</td>\n",
       "      <td>enough</td>\n",
       "      <td>shallow well</td>\n",
       "      <td>shallow well</td>\n",
       "      <td>groundwater</td>\n",
       "      <td>hand pump</td>\n",
       "      <td>hand pump</td>\n",
       "    </tr>\n",
       "    <tr>\n",
       "      <th>14146</th>\n",
       "      <td>non functional</td>\n",
       "      <td>Kkkt</td>\n",
       "      <td>KKKT</td>\n",
       "      <td>Mahakama</td>\n",
       "      <td>Lake Rukwa</td>\n",
       "      <td>Chawalikozi</td>\n",
       "      <td>Mbeya</td>\n",
       "      <td>Mbozi</td>\n",
       "      <td>Ndalambo</td>\n",
       "      <td>True</td>\n",
       "      <td>...</td>\n",
       "      <td>never pay</td>\n",
       "      <td>soft</td>\n",
       "      <td>good</td>\n",
       "      <td>enough</td>\n",
       "      <td>enough</td>\n",
       "      <td>shallow well</td>\n",
       "      <td>shallow well</td>\n",
       "      <td>groundwater</td>\n",
       "      <td>other</td>\n",
       "      <td>other</td>\n",
       "    </tr>\n",
       "    <tr>\n",
       "      <th>47410</th>\n",
       "      <td>non functional</td>\n",
       "      <td>NaN</td>\n",
       "      <td>NaN</td>\n",
       "      <td>Shule Ya Msingi Chosi A</td>\n",
       "      <td>Rufiji</td>\n",
       "      <td>Shuleni</td>\n",
       "      <td>Mbeya</td>\n",
       "      <td>Mbarali</td>\n",
       "      <td>Chimala</td>\n",
       "      <td>True</td>\n",
       "      <td>...</td>\n",
       "      <td>monthly</td>\n",
       "      <td>soft</td>\n",
       "      <td>good</td>\n",
       "      <td>insufficient</td>\n",
       "      <td>insufficient</td>\n",
       "      <td>river</td>\n",
       "      <td>river/lake</td>\n",
       "      <td>surface</td>\n",
       "      <td>communal standpipe</td>\n",
       "      <td>communal standpipe</td>\n",
       "    </tr>\n",
       "    <tr>\n",
       "      <th>1288</th>\n",
       "      <td>non functional</td>\n",
       "      <td>Ki</td>\n",
       "      <td>Ki</td>\n",
       "      <td>Kwa Mjowe</td>\n",
       "      <td>Wami / Ruvu</td>\n",
       "      <td>Ngholong</td>\n",
       "      <td>Morogoro</td>\n",
       "      <td>Kilosa</td>\n",
       "      <td>Chakwale</td>\n",
       "      <td>True</td>\n",
       "      <td>...</td>\n",
       "      <td>on failure</td>\n",
       "      <td>salty</td>\n",
       "      <td>salty</td>\n",
       "      <td>enough</td>\n",
       "      <td>enough</td>\n",
       "      <td>shallow well</td>\n",
       "      <td>shallow well</td>\n",
       "      <td>groundwater</td>\n",
       "      <td>other</td>\n",
       "      <td>other</td>\n",
       "    </tr>\n",
       "  </tbody>\n",
       "</table>\n",
       "<p>5 rows × 28 columns</p>\n",
       "</div>"
      ],
      "text/plain": [
       "         status_group funder installer                 wpt_name        basin  \\\n",
       "id                                                                             \n",
       "454        functional   Dmdd      DMDD                    Narmo     Internal   \n",
       "510        functional   Cmsr      Gove                   Lukali     Internal   \n",
       "14146  non functional   Kkkt      KKKT                 Mahakama   Lake Rukwa   \n",
       "47410  non functional    NaN       NaN  Shule Ya Msingi Chosi A       Rufiji   \n",
       "1288   non functional     Ki        Ki                Kwa Mjowe  Wami / Ruvu   \n",
       "\n",
       "         subvillage    region      lga      ward public_meeting  ...  \\\n",
       "id                                                               ...   \n",
       "454    Bashnet Kati   Manyara   Babati  Bashinet           True  ...   \n",
       "510          Lukali    Dodoma     Bahi   Lamaiti           True  ...   \n",
       "14146   Chawalikozi     Mbeya    Mbozi  Ndalambo           True  ...   \n",
       "47410       Shuleni     Mbeya  Mbarali   Chimala           True  ...   \n",
       "1288       Ngholong  Morogoro   Kilosa  Chakwale           True  ...   \n",
       "\n",
       "      payment_type water_quality quality_group      quantity quantity_group  \\\n",
       "id                                                                            \n",
       "454     per bucket          soft          good  insufficient   insufficient   \n",
       "510      never pay          soft          good        enough         enough   \n",
       "14146    never pay          soft          good        enough         enough   \n",
       "47410      monthly          soft          good  insufficient   insufficient   \n",
       "1288    on failure         salty         salty        enough         enough   \n",
       "\n",
       "             source   source_type source_class     waterpoint_type  \\\n",
       "id                                                                   \n",
       "454          spring        spring  groundwater  communal standpipe   \n",
       "510    shallow well  shallow well  groundwater           hand pump   \n",
       "14146  shallow well  shallow well  groundwater               other   \n",
       "47410         river    river/lake      surface  communal standpipe   \n",
       "1288   shallow well  shallow well  groundwater               other   \n",
       "\n",
       "      waterpoint_type_group  \n",
       "id                           \n",
       "454      communal standpipe  \n",
       "510               hand pump  \n",
       "14146                 other  \n",
       "47410    communal standpipe  \n",
       "1288                  other  \n",
       "\n",
       "[5 rows x 28 columns]"
      ]
     },
     "execution_count": 41,
     "metadata": {},
     "output_type": "execute_result"
    }
   ],
   "source": [
    "# dataframe of object columns for easier viewing\n",
    "df_obj = df[list(df_obj.columns)]\n",
    "df_obj.head()"
   ]
  },
  {
   "cell_type": "code",
   "execution_count": 42,
   "metadata": {},
   "outputs": [
    {
     "data": {
      "text/plain": [
       "['Column: funder, Unique items: 1698',\n",
       " 'Column: installer, Unique items: 1923',\n",
       " 'Column: wpt_name, Unique items: 30742',\n",
       " 'Column: subvillage, Unique items: 17232',\n",
       " 'Column: lga, Unique items: 125',\n",
       " 'Column: ward, Unique items: 2076']"
      ]
     },
     "execution_count": 42,
     "metadata": {},
     "output_type": "execute_result"
    }
   ],
   "source": [
    "# possible high cardinality columns\n",
    "[f\"Column: {obj}, Unique items: {df[obj].nunique()}\" for obj in df_obj.columns if (df[obj].nunique() > 25)]"
   ]
  },
  {
   "cell_type": "code",
   "execution_count": 43,
   "metadata": {},
   "outputs": [
    {
     "name": "stdout",
     "output_type": "stream",
     "text": [
      "['basin', 'region', 'public_meeting', 'scheme_management', 'permit', 'extraction_type', 'extraction_type_group', 'extraction_type_class', 'management', 'management_group', 'payment', 'payment_type', 'water_quality', 'quality_group', 'quantity', 'quantity_group', 'source', 'source_type', 'source_class', 'waterpoint_type', 'waterpoint_type_group']\n"
     ]
    }
   ],
   "source": [
    "# create list of low cardinality columns\n",
    "high_card_cols = [obj for obj in df_obj.columns if (df[obj].nunique() > 25)]\n",
    "low_card_cols = [obj for obj in df_obj.columns if obj not in high_card_cols]\n",
    "low_card_cols.remove('status_group') # remove target variable\n",
    "print(low_card_cols)"
   ]
  },
  {
   "cell_type": "code",
   "execution_count": 44,
   "metadata": {},
   "outputs": [
    {
     "data": {
      "text/plain": [
       "[{'basin': ['Internal',\n",
       "   'Lake Rukwa',\n",
       "   'Rufiji',\n",
       "   'Wami / Ruvu',\n",
       "   'Lake Victoria',\n",
       "   'Lake Tanganyika',\n",
       "   'Pangani',\n",
       "   'Lake Nyasa',\n",
       "   'Ruvuma / Southern Coast']},\n",
       " {'region': ['Manyara',\n",
       "   'Dodoma',\n",
       "   'Mbeya',\n",
       "   'Morogoro',\n",
       "   'Mwanza',\n",
       "   'Shinyanga',\n",
       "   'Kigoma',\n",
       "   'Tanga',\n",
       "   'Iringa',\n",
       "   'Arusha',\n",
       "   'Kagera',\n",
       "   'Singida',\n",
       "   'Tabora',\n",
       "   'Rukwa',\n",
       "   'Pwani',\n",
       "   'Ruvuma',\n",
       "   'Dar es Salaam',\n",
       "   'Kilimanjaro',\n",
       "   'Lindi',\n",
       "   'Mtwara',\n",
       "   'Mara']},\n",
       " {'public_meeting': [True, False, nan]},\n",
       " {'scheme_management': ['Water Board',\n",
       "   'VWC',\n",
       "   'WUG',\n",
       "   nan,\n",
       "   'Water authority',\n",
       "   'Parastatal',\n",
       "   'SWC',\n",
       "   'WUA',\n",
       "   'Private operator',\n",
       "   'Company',\n",
       "   'Other',\n",
       "   'Trust',\n",
       "   'None']},\n",
       " {'permit': [True, False, nan]},\n",
       " {'extraction_type': ['gravity',\n",
       "   'india mark ii',\n",
       "   'other',\n",
       "   'nira/tanira',\n",
       "   'swn 80',\n",
       "   'mono',\n",
       "   'submersible',\n",
       "   'afridev',\n",
       "   'ksb',\n",
       "   'windmill',\n",
       "   'other - rope pump',\n",
       "   'other - swn 81',\n",
       "   'other - play pump',\n",
       "   'climax',\n",
       "   'india mark iii',\n",
       "   'cemo',\n",
       "   'walimi',\n",
       "   'other - mkulima/shinyanga']},\n",
       " {'extraction_type_group': ['gravity',\n",
       "   'india mark ii',\n",
       "   'other',\n",
       "   'nira/tanira',\n",
       "   'swn 80',\n",
       "   'mono',\n",
       "   'submersible',\n",
       "   'afridev',\n",
       "   'wind-powered',\n",
       "   'rope pump',\n",
       "   'other handpump',\n",
       "   'other motorpump',\n",
       "   'india mark iii']},\n",
       " {'extraction_type_class': ['gravity',\n",
       "   'handpump',\n",
       "   'other',\n",
       "   'motorpump',\n",
       "   'submersible',\n",
       "   'wind-powered',\n",
       "   'rope pump']},\n",
       " {'management': ['water board',\n",
       "   'vwc',\n",
       "   'wug',\n",
       "   'private operator',\n",
       "   'parastatal',\n",
       "   'other - school',\n",
       "   'wua',\n",
       "   'unknown',\n",
       "   'company',\n",
       "   'other',\n",
       "   'water authority',\n",
       "   'trust']},\n",
       " {'management_group': ['user-group',\n",
       "   'commercial',\n",
       "   'parastatal',\n",
       "   'other',\n",
       "   'unknown']},\n",
       " {'payment': ['pay per bucket',\n",
       "   'never pay',\n",
       "   'pay monthly',\n",
       "   'pay when scheme fails',\n",
       "   'other',\n",
       "   'pay annually',\n",
       "   'unknown']},\n",
       " {'payment_type': ['per bucket',\n",
       "   'never pay',\n",
       "   'monthly',\n",
       "   'on failure',\n",
       "   'other',\n",
       "   'annually',\n",
       "   'unknown']},\n",
       " {'water_quality': ['soft',\n",
       "   'salty',\n",
       "   'unknown',\n",
       "   'coloured',\n",
       "   'fluoride',\n",
       "   'milky',\n",
       "   'salty abandoned',\n",
       "   'fluoride abandoned']},\n",
       " {'quality_group': ['good',\n",
       "   'salty',\n",
       "   'unknown',\n",
       "   'colored',\n",
       "   'fluoride',\n",
       "   'milky']},\n",
       " {'quantity': ['insufficient', 'enough', 'seasonal', 'dry', 'unknown']},\n",
       " {'quantity_group': ['insufficient', 'enough', 'seasonal', 'dry', 'unknown']},\n",
       " {'source': ['spring',\n",
       "   'shallow well',\n",
       "   'river',\n",
       "   'machine dbh',\n",
       "   'hand dtw',\n",
       "   'dam',\n",
       "   'rainwater harvesting',\n",
       "   'lake',\n",
       "   'other',\n",
       "   'unknown']},\n",
       " {'source_type': ['spring',\n",
       "   'shallow well',\n",
       "   'river/lake',\n",
       "   'borehole',\n",
       "   'dam',\n",
       "   'rainwater harvesting',\n",
       "   'other']},\n",
       " {'source_class': ['groundwater', 'surface', 'unknown']},\n",
       " {'waterpoint_type': ['communal standpipe',\n",
       "   'hand pump',\n",
       "   'other',\n",
       "   'communal standpipe multiple',\n",
       "   'improved spring',\n",
       "   'cattle trough',\n",
       "   'dam']},\n",
       " {'waterpoint_type_group': ['communal standpipe',\n",
       "   'hand pump',\n",
       "   'other',\n",
       "   'improved spring',\n",
       "   'cattle trough',\n",
       "   'dam']}]"
      ]
     },
     "execution_count": 44,
     "metadata": {},
     "output_type": "execute_result"
    }
   ],
   "source": [
    "# list of unique values by low cardinality columns\n",
    "[{obj: list(df_obj[obj].unique())} for obj in low_card_cols]"
   ]
  },
  {
   "cell_type": "markdown",
   "metadata": {},
   "source": [
    "A quick glance through the low-cardinality columns reveals that nulls are already specified, or there are no values which should be interpreted as nulls. 'scheme_management' has a 'None' value, but it is unclear whether this is a null value or there is truly no scheme management for the pump, and the 'None' value would therefore be valid data."
   ]
  },
  {
   "cell_type": "markdown",
   "metadata": {},
   "source": [
    "### High Cardinality Categorical Columns (HCCCs)\n",
    "\n",
    "HCCCs often have only a few rows of data for each variable. This is counterproductive to the generalizations that are needed for a machine learning model to operate effectively, and as such, are to be removed."
   ]
  },
  {
   "cell_type": "code",
   "execution_count": 45,
   "metadata": {},
   "outputs": [
    {
     "data": {
      "text/plain": [
       "['Column: funder, Unique items: 1698',\n",
       " 'Column: installer, Unique items: 1923',\n",
       " 'Column: wpt_name, Unique items: 30742',\n",
       " 'Column: subvillage, Unique items: 17232',\n",
       " 'Column: lga, Unique items: 125',\n",
       " 'Column: ward, Unique items: 2076']"
      ]
     },
     "execution_count": 45,
     "metadata": {},
     "output_type": "execute_result"
    }
   ],
   "source": [
    "# possible HCCCs\n",
    "[f\"Column: {obj}, Unique items: {df[obj].nunique()}\" for obj in df_obj.columns if (df[obj].nunique() > 25)]"
   ]
  },
  {
   "cell_type": "code",
   "execution_count": 46,
   "metadata": {},
   "outputs": [
    {
     "name": "stdout",
     "output_type": "stream",
     "text": [
      "Number of single-row items for funder: 866\n",
      "Number of single-row items for installer: 974\n",
      "Number of single-row items for wpt_name: 27332\n",
      "Number of single-row items for subvillage: 9012\n",
      "Number of single-row items for lga: 1\n",
      "Number of single-row items for ward: 44\n"
     ]
    }
   ],
   "source": [
    "# number of values with single row for possible HCCCs\n",
    "for obj in df_obj.columns:\n",
    "    if df[obj].nunique() > 25:\n",
    "        print(f\"Number of single-row items for {obj}: {pd.Series(df[obj].value_counts() == 1).sum()}\")"
   ]
  },
  {
   "cell_type": "markdown",
   "metadata": {},
   "source": [
    "'lga' is the only possible HCCC that could provide some benefit (all others are too high-cardinality)."
   ]
  },
  {
   "cell_type": "code",
   "execution_count": 47,
   "metadata": {},
   "outputs": [
    {
     "data": {
      "text/plain": [
       "Nyamagana             1\n",
       "Lindi Urban          16\n",
       "Kigoma Urban         52\n",
       "Arusha Urban         54\n",
       "Moshi Urban          64\n",
       "Songea Urban         66\n",
       "Morogoro Urban       72\n",
       "Bukoba Urban         73\n",
       "Kinondoni            73\n",
       "Tanga                79\n",
       "Mtwara Urban         99\n",
       "Mafia               105\n",
       "Ilemela             107\n",
       "Kilindi             123\n",
       "Tabora Urban        123\n",
       "Liwale              124\n",
       "Singida Urban       129\n",
       "Nanyumbu            129\n",
       "Sikonge             137\n",
       "Shinyanga Urban     150\n",
       "Sumbawanga Urban    150\n",
       "Kiteto              153\n",
       "Ngorongoro          157\n",
       "Tarime              157\n",
       "Monduli             158\n",
       "Name: lga, dtype: int64"
      ]
     },
     "execution_count": 47,
     "metadata": {},
     "output_type": "execute_result"
    }
   ],
   "source": [
    "df['lga'].value_counts(sort=True, ascending=True)[:25]"
   ]
  },
  {
   "cell_type": "markdown",
   "metadata": {},
   "source": [
    "The total sample sizes for each value in 'lga' can get very small (disregarding the one single-row value) but it may provide some value. 'lga' will be kept; all other HCCCs will be removed from the dataset."
   ]
  },
  {
   "cell_type": "code",
   "execution_count": 48,
   "metadata": {},
   "outputs": [
    {
     "name": "stdout",
     "output_type": "stream",
     "text": [
      "Columns before removal: 38\n",
      "Columns after removal: 33\n"
     ]
    }
   ],
   "source": [
    "# drop HCCCs from dataframe\n",
    "hccc_list = ['funder', 'installer', 'wpt_name', 'subvillage', 'ward']\n",
    "print(f\"Columns before removal: {df.shape[1]}\")\n",
    "df.drop(columns=hccc_list, inplace=True)\n",
    "print(f\"Columns after removal: {df.shape[1]}\")"
   ]
  },
  {
   "cell_type": "markdown",
   "metadata": {},
   "source": [
    "### Duplicate Value Columns\n",
    "\n",
    "Some of the column names suggest they are duplicate values (or close enough to be considered duplicates)."
   ]
  },
  {
   "cell_type": "code",
   "execution_count": 49,
   "metadata": {},
   "outputs": [
    {
     "name": "stdout",
     "output_type": "stream",
     "text": [
      "Index(['status_group', 'amount_tsh', 'date_recorded', 'gps_height',\n",
      "       'longitude', 'latitude', 'num_private', 'basin', 'region',\n",
      "       'region_code', 'district_code', 'lga', 'population', 'public_meeting',\n",
      "       'scheme_management', 'permit', 'construction_year', 'extraction_type',\n",
      "       'extraction_type_group', 'extraction_type_class', 'management',\n",
      "       'management_group', 'payment', 'payment_type', 'water_quality',\n",
      "       'quality_group', 'quantity', 'quantity_group', 'source', 'source_type',\n",
      "       'source_class', 'waterpoint_type', 'waterpoint_type_group'],\n",
      "      dtype='object')\n"
     ]
    }
   ],
   "source": [
    "# list of column names\n",
    "print(df.columns)"
   ]
  },
  {
   "cell_type": "markdown",
   "metadata": {},
   "source": [
    "Possible duplicates:\n",
    "- 'extraction_type' and 'extraction_type_group' and 'extraction_type_class'\n",
    "- 'management' and 'management_group'\n",
    "- 'payment' and 'payment_type'\n",
    "- 'water_quality' and 'quality_group'\n",
    "- 'quantity' and 'quantity_group'\n",
    "- 'source' and 'source_type' and 'source_class'\n",
    "- 'waterpoint_type' and 'waterpoint_type_group'"
   ]
  },
  {
   "cell_type": "code",
   "execution_count": 50,
   "metadata": {},
   "outputs": [
    {
     "data": {
      "text/html": [
       "<div>\n",
       "<style scoped>\n",
       "    .dataframe tbody tr th:only-of-type {\n",
       "        vertical-align: middle;\n",
       "    }\n",
       "\n",
       "    .dataframe tbody tr th {\n",
       "        vertical-align: top;\n",
       "    }\n",
       "\n",
       "    .dataframe thead th {\n",
       "        text-align: right;\n",
       "    }\n",
       "</style>\n",
       "<table border=\"1\" class=\"dataframe\">\n",
       "  <thead>\n",
       "    <tr style=\"text-align: right;\">\n",
       "      <th></th>\n",
       "      <th>extraction_type</th>\n",
       "      <th>extraction_type_group</th>\n",
       "      <th>extraction_type_class</th>\n",
       "    </tr>\n",
       "    <tr>\n",
       "      <th>id</th>\n",
       "      <th></th>\n",
       "      <th></th>\n",
       "      <th></th>\n",
       "    </tr>\n",
       "  </thead>\n",
       "  <tbody>\n",
       "    <tr>\n",
       "      <th>454</th>\n",
       "      <td>gravity</td>\n",
       "      <td>gravity</td>\n",
       "      <td>gravity</td>\n",
       "    </tr>\n",
       "    <tr>\n",
       "      <th>510</th>\n",
       "      <td>india mark ii</td>\n",
       "      <td>india mark ii</td>\n",
       "      <td>handpump</td>\n",
       "    </tr>\n",
       "    <tr>\n",
       "      <th>14146</th>\n",
       "      <td>other</td>\n",
       "      <td>other</td>\n",
       "      <td>other</td>\n",
       "    </tr>\n",
       "    <tr>\n",
       "      <th>47410</th>\n",
       "      <td>gravity</td>\n",
       "      <td>gravity</td>\n",
       "      <td>gravity</td>\n",
       "    </tr>\n",
       "    <tr>\n",
       "      <th>1288</th>\n",
       "      <td>other</td>\n",
       "      <td>other</td>\n",
       "      <td>other</td>\n",
       "    </tr>\n",
       "  </tbody>\n",
       "</table>\n",
       "</div>"
      ],
      "text/plain": [
       "      extraction_type extraction_type_group extraction_type_class\n",
       "id                                                               \n",
       "454           gravity               gravity               gravity\n",
       "510     india mark ii         india mark ii              handpump\n",
       "14146           other                 other                 other\n",
       "47410         gravity               gravity               gravity\n",
       "1288            other                 other                 other"
      ]
     },
     "execution_count": 50,
     "metadata": {},
     "output_type": "execute_result"
    }
   ],
   "source": [
    "# first 5 values of possible extraction type duplicates\n",
    "extract_dups = ['extraction_type', 'extraction_type_group', 'extraction_type_class']\n",
    "df[extract_dups].head()"
   ]
  },
  {
   "cell_type": "code",
   "execution_count": 51,
   "metadata": {},
   "outputs": [
    {
     "name": "stdout",
     "output_type": "stream",
     "text": [
      "[{'extraction_type': array(['gravity', 'india mark ii', 'other', 'nira/tanira', 'swn 80',\n",
      "       'mono', 'submersible', 'afridev', 'ksb', 'windmill',\n",
      "       'other - rope pump', 'other - swn 81', 'other - play pump',\n",
      "       'climax', 'india mark iii', 'cemo', 'walimi',\n",
      "       'other - mkulima/shinyanga'], dtype=object)}, {'extraction_type_group': array(['gravity', 'india mark ii', 'other', 'nira/tanira', 'swn 80',\n",
      "       'mono', 'submersible', 'afridev', 'wind-powered', 'rope pump',\n",
      "       'other handpump', 'other motorpump', 'india mark iii'],\n",
      "      dtype=object)}, {'extraction_type_class': array(['gravity', 'handpump', 'other', 'motorpump', 'submersible',\n",
      "       'wind-powered', 'rope pump'], dtype=object)}]\n"
     ]
    }
   ],
   "source": [
    "# unique values in possible extraction type duplicates\n",
    "print([{col: df[col].unique()} for col in extract_dups])"
   ]
  },
  {
   "cell_type": "markdown",
   "metadata": {},
   "source": [
    "These are clearly duplicate columns, but it is unclear which column to keep. Each has their own benefits and drawbacks:\n",
    "- 'extraction_type' has the highest quantity of unique values, making it useful for differentiation\n",
    "- 'extraction_type_group' has a middling quantity; best of both worlds?\n",
    "- 'extraction_type_class' has the lowest quantity of unique values, and is the easiest to understand from a layman's perspective\n",
    "\n",
    "Perhaps knowing how many of each value will provide some clarity."
   ]
  },
  {
   "cell_type": "code",
   "execution_count": 52,
   "metadata": {},
   "outputs": [
    {
     "data": {
      "text/plain": [
       "{'extraction_type': {'gravity': 21340,\n",
       "  'india mark ii': 1920,\n",
       "  'other': 5150,\n",
       "  'nira/tanira': 6566,\n",
       "  'swn 80': 2965,\n",
       "  'mono': 2284,\n",
       "  'submersible': 3851,\n",
       "  'afridev': 1409,\n",
       "  'ksb': 1111,\n",
       "  'windmill': 84,\n",
       "  'other - rope pump': 376,\n",
       "  'other - swn 81': 178,\n",
       "  'other - play pump': 70,\n",
       "  'climax': 28,\n",
       "  'india mark iii': 71,\n",
       "  'cemo': 74,\n",
       "  'walimi': 41,\n",
       "  'other - mkulima/shinyanga': 2},\n",
       " 'extraction_type_group': {'gravity': 21340,\n",
       "  'india mark ii': 1920,\n",
       "  'other': 5150,\n",
       "  'nira/tanira': 6566,\n",
       "  'swn 80': 2965,\n",
       "  'mono': 2284,\n",
       "  'submersible': 4962,\n",
       "  'afridev': 1409,\n",
       "  'wind-powered': 84,\n",
       "  'rope pump': 376,\n",
       "  'other handpump': 291,\n",
       "  'other motorpump': 102,\n",
       "  'india mark iii': 71},\n",
       " 'extraction_type_class': {'gravity': 21340,\n",
       "  'handpump': 13222,\n",
       "  'other': 5150,\n",
       "  'motorpump': 2386,\n",
       "  'submersible': 4962,\n",
       "  'wind-powered': 84,\n",
       "  'rope pump': 376}}"
      ]
     },
     "execution_count": 52,
     "metadata": {},
     "output_type": "execute_result"
    }
   ],
   "source": [
    "# count of rows with unique value for each extraction type column\n",
    "{col: {val: df.loc[df[col] == val].count()[0] for val in df[col].unique()} for col in extract_dups}"
   ]
  },
  {
   "cell_type": "markdown",
   "metadata": {},
   "source": [
    "'extraction_type_group' appears to be the best choice. 'extraction_type' is too specific, with some value counts too low to be useful. 'extraction_type_class' is also an acceptable choice, but accumulates the values more than is necessary when compared to 'extraction_type_group'."
   ]
  },
  {
   "cell_type": "code",
   "execution_count": 53,
   "metadata": {},
   "outputs": [
    {
     "name": "stdout",
     "output_type": "stream",
     "text": [
      "Columns before removal: 33\n",
      "Columns after removal: 31\n"
     ]
    }
   ],
   "source": [
    "# drop 'extraction_type' and 'extraction_type_class' from dataframe\n",
    "print(f\"Columns before removal: {df.shape[1]}\")\n",
    "df.drop(columns=['extraction_type', 'extraction_type_class'], inplace=True)\n",
    "print(f\"Columns after removal: {df.shape[1]}\")"
   ]
  },
  {
   "cell_type": "code",
   "execution_count": 54,
   "metadata": {},
   "outputs": [
    {
     "data": {
      "text/html": [
       "<div>\n",
       "<style scoped>\n",
       "    .dataframe tbody tr th:only-of-type {\n",
       "        vertical-align: middle;\n",
       "    }\n",
       "\n",
       "    .dataframe tbody tr th {\n",
       "        vertical-align: top;\n",
       "    }\n",
       "\n",
       "    .dataframe thead th {\n",
       "        text-align: right;\n",
       "    }\n",
       "</style>\n",
       "<table border=\"1\" class=\"dataframe\">\n",
       "  <thead>\n",
       "    <tr style=\"text-align: right;\">\n",
       "      <th></th>\n",
       "      <th>management</th>\n",
       "      <th>management_group</th>\n",
       "    </tr>\n",
       "    <tr>\n",
       "      <th>id</th>\n",
       "      <th></th>\n",
       "      <th></th>\n",
       "    </tr>\n",
       "  </thead>\n",
       "  <tbody>\n",
       "    <tr>\n",
       "      <th>454</th>\n",
       "      <td>water board</td>\n",
       "      <td>user-group</td>\n",
       "    </tr>\n",
       "    <tr>\n",
       "      <th>510</th>\n",
       "      <td>vwc</td>\n",
       "      <td>user-group</td>\n",
       "    </tr>\n",
       "    <tr>\n",
       "      <th>14146</th>\n",
       "      <td>vwc</td>\n",
       "      <td>user-group</td>\n",
       "    </tr>\n",
       "    <tr>\n",
       "      <th>47410</th>\n",
       "      <td>vwc</td>\n",
       "      <td>user-group</td>\n",
       "    </tr>\n",
       "    <tr>\n",
       "      <th>1288</th>\n",
       "      <td>vwc</td>\n",
       "      <td>user-group</td>\n",
       "    </tr>\n",
       "  </tbody>\n",
       "</table>\n",
       "</div>"
      ],
      "text/plain": [
       "        management management_group\n",
       "id                                 \n",
       "454    water board       user-group\n",
       "510            vwc       user-group\n",
       "14146          vwc       user-group\n",
       "47410          vwc       user-group\n",
       "1288           vwc       user-group"
      ]
     },
     "execution_count": 54,
     "metadata": {},
     "output_type": "execute_result"
    }
   ],
   "source": [
    "# first 5 values of possible management duplicates\n",
    "mgmt_dups = ['management', 'management_group']\n",
    "df[mgmt_dups].head()"
   ]
  },
  {
   "cell_type": "code",
   "execution_count": 55,
   "metadata": {},
   "outputs": [
    {
     "name": "stdout",
     "output_type": "stream",
     "text": [
      "[{'management': array(['water board', 'vwc', 'wug', 'private operator', 'parastatal',\n",
      "       'other - school', 'wua', 'unknown', 'company', 'other',\n",
      "       'water authority', 'trust'], dtype=object)}, {'management_group': array(['user-group', 'commercial', 'parastatal', 'other', 'unknown'],\n",
      "      dtype=object)}]\n"
     ]
    }
   ],
   "source": [
    "# unique values in possible management duplicates\n",
    "print([{col: df[col].unique()} for col in mgmt_dups])"
   ]
  },
  {
   "cell_type": "code",
   "execution_count": 56,
   "metadata": {},
   "outputs": [
    {
     "data": {
      "text/plain": [
       "{'management': {'water board': 2326,\n",
       "  'vwc': 32455,\n",
       "  'wug': 5204,\n",
       "  'private operator': 1566,\n",
       "  'parastatal': 1413,\n",
       "  'other - school': 81,\n",
       "  'wua': 2033,\n",
       "  'unknown': 456,\n",
       "  'company': 524,\n",
       "  'other': 683,\n",
       "  'water authority': 716,\n",
       "  'trust': 63},\n",
       " 'management_group': {'user-group': 42018,\n",
       "  'commercial': 2869,\n",
       "  'parastatal': 1413,\n",
       "  'other': 764,\n",
       "  'unknown': 456}}"
      ]
     },
     "execution_count": 56,
     "metadata": {},
     "output_type": "execute_result"
    }
   ],
   "source": [
    "# count of rows with unique value for each management column\n",
    "{col: {val: df.loc[df[col] == val].count()[0] for val in df[col].unique()} for col in mgmt_dups}"
   ]
  },
  {
   "cell_type": "markdown",
   "metadata": {},
   "source": [
    "'management' has some unique values with low counts ('trust' in particular) but that may be overshadowed by 'management_group' being heavily skewed in its value count of 'user_group'. 'management' is probably the better choice for that reason."
   ]
  },
  {
   "cell_type": "code",
   "execution_count": 57,
   "metadata": {},
   "outputs": [
    {
     "name": "stdout",
     "output_type": "stream",
     "text": [
      "Columns before removal: 31\n",
      "Columns after removal: 30\n"
     ]
    }
   ],
   "source": [
    "# drop 'management_group' from dataframe\n",
    "print(f\"Columns before removal: {df.shape[1]}\")\n",
    "df.drop(columns=['management_group'], inplace=True)\n",
    "print(f\"Columns after removal: {df.shape[1]}\")"
   ]
  },
  {
   "cell_type": "code",
   "execution_count": 58,
   "metadata": {},
   "outputs": [
    {
     "name": "stdout",
     "output_type": "stream",
     "text": [
      "                     payment payment_type\n",
      "id                                       \n",
      "454           pay per bucket   per bucket\n",
      "510                never pay    never pay\n",
      "14146              never pay    never pay\n",
      "47410            pay monthly      monthly\n",
      "1288   pay when scheme fails   on failure\n",
      "\n",
      "\n",
      "[{'payment': array(['pay per bucket', 'never pay', 'pay monthly',\n",
      "       'pay when scheme fails', 'other', 'pay annually', 'unknown'],\n",
      "      dtype=object)}, {'payment_type': array(['per bucket', 'never pay', 'monthly', 'on failure', 'other',\n",
      "       'annually', 'unknown'], dtype=object)}]\n",
      "\n",
      "\n",
      "{'payment': {'pay per bucket': 7223, 'never pay': 20318, 'pay monthly': 6574, 'pay when scheme fails': 3154, 'other': 844, 'pay annually': 2886, 'unknown': 6521}, 'payment_type': {'per bucket': 7223, 'never pay': 20318, 'monthly': 6574, 'on failure': 3154, 'other': 844, 'annually': 2886, 'unknown': 6521}}\n"
     ]
    }
   ],
   "source": [
    "# first 5 values of possible payment duplicates\n",
    "pay_dups = ['payment', 'payment_type']\n",
    "print(df[pay_dups].head())\n",
    "print('\\n')\n",
    "# unique values in possible payment duplicates\n",
    "print([{col: df[col].unique()} for col in pay_dups])\n",
    "print('\\n')\n",
    "# count of rows with unique value for each payment column\n",
    "print({col: {val: df.loc[df[col] == val].count()[0] for val in df[col].unique()} for col in pay_dups})"
   ]
  },
  {
   "cell_type": "markdown",
   "metadata": {},
   "source": [
    "These are clear duplicates. 'payment' will be kept because the descriptions are clearer."
   ]
  },
  {
   "cell_type": "code",
   "execution_count": 59,
   "metadata": {},
   "outputs": [
    {
     "name": "stdout",
     "output_type": "stream",
     "text": [
      "Columns before removal: 30\n",
      "Columns after removal: 29\n"
     ]
    }
   ],
   "source": [
    "# drop 'payment_type' from dataframe\n",
    "print(f\"Columns before removal: {df.shape[1]}\")\n",
    "df.drop(columns=['payment_type'], inplace=True)\n",
    "print(f\"Columns after removal: {df.shape[1]}\")"
   ]
  },
  {
   "cell_type": "code",
   "execution_count": 60,
   "metadata": {},
   "outputs": [
    {
     "name": "stdout",
     "output_type": "stream",
     "text": [
      "           quantity quantity_group\n",
      "id                                \n",
      "454    insufficient   insufficient\n",
      "510          enough         enough\n",
      "14146        enough         enough\n",
      "47410  insufficient   insufficient\n",
      "1288         enough         enough\n",
      "\n",
      "\n",
      "[{'quantity': array(['insufficient', 'enough', 'seasonal', 'dry', 'unknown'],\n",
      "      dtype=object)}, {'quantity_group': array(['insufficient', 'enough', 'seasonal', 'dry', 'unknown'],\n",
      "      dtype=object)}]\n",
      "\n",
      "\n",
      "{'quantity': {'insufficient': 12104, 'enough': 26538, 'seasonal': 3225, 'dry': 5024, 'unknown': 629}, 'quantity_group': {'insufficient': 12104, 'enough': 26538, 'seasonal': 3225, 'dry': 5024, 'unknown': 629}}\n"
     ]
    }
   ],
   "source": [
    "# first 5 values of possible quantity duplicates\n",
    "quant_dups = ['quantity', 'quantity_group']\n",
    "print(df[quant_dups].head())\n",
    "print('\\n')\n",
    "# unique values in possible quantity duplicates\n",
    "print([{col: df[col].unique()} for col in quant_dups])\n",
    "print('\\n')\n",
    "# count of rows with unique value for each quantity column\n",
    "print({col: {val: df.loc[df[col] == val].count()[0] for val in df[col].unique()} for col in quant_dups})"
   ]
  },
  {
   "cell_type": "markdown",
   "metadata": {},
   "source": [
    "These are clear duplicates. 'quantity' will be kept."
   ]
  },
  {
   "cell_type": "code",
   "execution_count": 61,
   "metadata": {},
   "outputs": [
    {
     "name": "stdout",
     "output_type": "stream",
     "text": [
      "Columns before removal: 29\n",
      "Columns after removal: 28\n"
     ]
    }
   ],
   "source": [
    "# drop 'quantity_group' from dataframe\n",
    "print(f\"Columns before removal: {df.shape[1]}\")\n",
    "df.drop(columns=['quantity_group'], inplace=True)\n",
    "print(f\"Columns after removal: {df.shape[1]}\")"
   ]
  },
  {
   "cell_type": "code",
   "execution_count": 62,
   "metadata": {},
   "outputs": [
    {
     "name": "stdout",
     "output_type": "stream",
     "text": [
      "             source   source_type source_class\n",
      "id                                            \n",
      "454          spring        spring  groundwater\n",
      "510    shallow well  shallow well  groundwater\n",
      "14146  shallow well  shallow well  groundwater\n",
      "47410         river    river/lake      surface\n",
      "1288   shallow well  shallow well  groundwater\n",
      "\n",
      "\n",
      "[{'source': array(['spring', 'shallow well', 'river', 'machine dbh', 'hand dtw',\n",
      "       'dam', 'rainwater harvesting', 'lake', 'other', 'unknown'],\n",
      "      dtype=object)}, {'source_type': array(['spring', 'shallow well', 'river/lake', 'borehole', 'dam',\n",
      "       'rainwater harvesting', 'other'], dtype=object)}, {'source_class': array(['groundwater', 'surface', 'unknown'], dtype=object)}]\n",
      "\n",
      "\n",
      "{'source': {'spring': 13537, 'shallow well': 13540, 'river': 7719, 'machine dbh': 8849, 'hand dtw': 701, 'dam': 505, 'rainwater harvesting': 1829, 'lake': 606, 'other': 178, 'unknown': 56}, 'source_type': {'spring': 13537, 'shallow well': 13540, 'river/lake': 8325, 'borehole': 9550, 'dam': 505, 'rainwater harvesting': 1829, 'other': 234}, 'source_class': {'groundwater': 36627, 'surface': 10659, 'unknown': 234}}\n"
     ]
    }
   ],
   "source": [
    "# first 5 values of possible source duplicates\n",
    "source_dups = ['source', 'source_type', 'source_class']\n",
    "print(df[source_dups].head())\n",
    "print('\\n')\n",
    "# unique values in possible source duplicates\n",
    "print([{col: df[col].unique()} for col in source_dups])\n",
    "print('\\n')\n",
    "# count of rows with unique value for each source column\n",
    "print({col: {val: df.loc[df[col] == val].count()[0] for val in df[col].unique()} for col in source_dups})"
   ]
  },
  {
   "cell_type": "markdown",
   "metadata": {},
   "source": [
    "'source' and 'source_type' are duplicates, and 'source_class' is also a duplication to some extent, but it is unclear if only one of the three columns should be kept, or some combination with 'source_class'.\n",
    "\n",
    "After some thought, 'source_class' is too general. Either 'source' or 'source_type' will be kept. 'source_type' groups the following categories from 'source':\n",
    "- 'river' and 'lake' into 'river/lake'\n",
    "- 'machine dbh' and 'hand dtw' into 'borehole'\n",
    "- 'other' and 'unknown' into 'other'\n",
    "\n",
    "There may be sufficient reason to keep these separate. Looking at the target variable by the separate types may clarify."
   ]
  },
  {
   "cell_type": "code",
   "execution_count": 63,
   "metadata": {},
   "outputs": [
    {
     "name": "stdout",
     "output_type": "stream",
     "text": [
      "                             river       lake\n",
      "functional               56.380360  21.122112\n",
      "non functional           31.001425  77.392739\n",
      "functional needs repair  12.618215   1.485149\n"
     ]
    }
   ],
   "source": [
    "# target variable percentage total by source type ('river' and 'lake')\n",
    "river_group_df = df.loc[df['source'] == 'river']['status_group'].value_counts(normalize=True) * 100\n",
    "river_group_df.name = 'river'\n",
    "lake_group_df = df.loc[df['source'] == 'lake']['status_group'].value_counts(normalize=True) * 100\n",
    "lake_group_df.name = 'lake'\n",
    "river_lake_df = pd.merge(river_group_df, lake_group_df, left_index=True, right_index=True)\n",
    "print(river_lake_df)"
   ]
  },
  {
   "cell_type": "code",
   "execution_count": 64,
   "metadata": {},
   "outputs": [
    {
     "name": "stdout",
     "output_type": "stream",
     "text": [
      "                         machine_dbh   hand_dtw\n",
      "functional                 49.282405  55.777461\n",
      "non functional             46.276415  42.368046\n",
      "functional needs repair     4.441180   1.854494\n"
     ]
    }
   ],
   "source": [
    "# target variable percentage total by source type ('machine dbh' and 'hand dtw')\n",
    "machine_group_df = df.loc[df['source'] == 'machine dbh']['status_group'].value_counts(normalize=True) * 100\n",
    "machine_group_df.name = 'machine_dbh'\n",
    "hand_group_df = df.loc[df['source'] == 'hand dtw']['status_group'].value_counts(normalize=True) * 100\n",
    "hand_group_df.name = 'hand_dtw'\n",
    "mg_hand_df = pd.merge(machine_group_df, hand_group_df, left_index=True, right_index=True)\n",
    "print(mg_hand_df)"
   ]
  },
  {
   "cell_type": "code",
   "execution_count": 65,
   "metadata": {},
   "outputs": [
    {
     "name": "stdout",
     "output_type": "stream",
     "text": [
      "                             other    unknown\n",
      "functional               59.550562  48.214286\n",
      "non functional           39.887640  46.428571\n",
      "functional needs repair   0.561798   5.357143\n"
     ]
    }
   ],
   "source": [
    "# target variable percentage total by source type ('other' and 'unknown')\n",
    "other_group_df = df.loc[df['source'] == 'other']['status_group'].value_counts(normalize=True) * 100\n",
    "other_group_df.name = 'other'\n",
    "unknown_group_df = df.loc[df['source'] == 'unknown']['status_group'].value_counts(normalize=True) * 100\n",
    "unknown_group_df.name = 'unknown'\n",
    "other_unknown_df = pd.merge(other_group_df, unknown_group_df, left_index=True, right_index=True)\n",
    "print(other_unknown_df)"
   ]
  },
  {
   "cell_type": "code",
   "execution_count": 66,
   "metadata": {},
   "outputs": [
    {
     "name": "stdout",
     "output_type": "stream",
     "text": [
      "p value is 4.212322495122488e-118. Significant difference\n"
     ]
    }
   ],
   "source": [
    "# chi squared test for difference in 'river' and 'lake'\n",
    "river_group_df = df.loc[df['source'] == 'river']['status_group'].value_counts()\n",
    "river_group_df.name = 'river'\n",
    "lake_group_df = df.loc[df['source'] == 'lake']['status_group'].value_counts()\n",
    "lake_group_df.name = 'lake'\n",
    "river_lake_df = pd.merge(river_group_df, lake_group_df, left_index=True, right_index=True)\n",
    "\n",
    "_, p, _, _ = chi2_contingency(river_lake_df)\n",
    "if p < 0.05:\n",
    "    print(f'p value is {p}. Significant difference')\n",
    "else:\n",
    "    print(f'p value is {p}. Insignificant difference')"
   ]
  },
  {
   "cell_type": "markdown",
   "metadata": {},
   "source": [
    "The 'borehole' and 'other' combinations have little difference (just looking at the percentages) but there is a statistically significant difference between the target values in 'river' and 'lake'. For this reason, we will keep 'source'."
   ]
  },
  {
   "cell_type": "code",
   "execution_count": 67,
   "metadata": {},
   "outputs": [
    {
     "name": "stdout",
     "output_type": "stream",
     "text": [
      "Columns before removal: 28\n",
      "Columns after removal: 26\n"
     ]
    }
   ],
   "source": [
    "# drop 'source_type' and 'source_class' from dataframe\n",
    "print(f\"Columns before removal: {df.shape[1]}\")\n",
    "df.drop(columns=['source_type', 'source_class'], inplace=True)\n",
    "print(f\"Columns after removal: {df.shape[1]}\")"
   ]
  },
  {
   "cell_type": "code",
   "execution_count": 68,
   "metadata": {},
   "outputs": [
    {
     "name": "stdout",
     "output_type": "stream",
     "text": [
      "          waterpoint_type waterpoint_type_group\n",
      "id                                             \n",
      "454    communal standpipe    communal standpipe\n",
      "510             hand pump             hand pump\n",
      "14146               other                 other\n",
      "47410  communal standpipe    communal standpipe\n",
      "1288                other                 other\n",
      "\n",
      "\n",
      "[{'waterpoint_type': array(['communal standpipe', 'hand pump', 'other',\n",
      "       'communal standpipe multiple', 'improved spring', 'cattle trough',\n",
      "       'dam'], dtype=object)}, {'waterpoint_type_group': array(['communal standpipe', 'hand pump', 'other', 'improved spring',\n",
      "       'cattle trough', 'dam'], dtype=object)}]\n",
      "\n",
      "\n",
      "{'waterpoint_type': {'communal standpipe': 22785, 'hand pump': 14073, 'other': 5098, 'communal standpipe multiple': 4830, 'improved spring': 639, 'cattle trough': 91, 'dam': 4}, 'waterpoint_type_group': {'communal standpipe': 27615, 'hand pump': 14073, 'other': 5098, 'improved spring': 639, 'cattle trough': 91, 'dam': 4}}\n"
     ]
    }
   ],
   "source": [
    "# first 5 values of possible waterpoint type duplicates\n",
    "wp_type_groups = ['waterpoint_type', 'waterpoint_type_group']\n",
    "print(df[wp_type_groups].head())\n",
    "print('\\n')\n",
    "# unique values in possible waterpoint type duplicates\n",
    "print([{col: df[col].unique()} for col in wp_type_groups])\n",
    "print('\\n')\n",
    "# count of rows with unique value for each waterpoint type column\n",
    "print({col: {val: df.loc[df[col] == val].count()[0] for val in df[col].unique()} for col in wp_type_groups})"
   ]
  },
  {
   "cell_type": "markdown",
   "metadata": {},
   "source": [
    "The only difference between 'waterpoint_type' and 'waterpoint_type_group' is the separation of 'communal standpipe' and 'communal standpipe multiple' in 'waterpoint_type'. The same target variable analysis from source type will be used here."
   ]
  },
  {
   "cell_type": "code",
   "execution_count": 69,
   "metadata": {},
   "outputs": [
    {
     "name": "stdout",
     "output_type": "stream",
     "text": [
      "                                CS        CSM\n",
      "functional               62.264648  36.397516\n",
      "non functional           29.888084  52.919255\n",
      "functional needs repair   7.847268  10.683230\n"
     ]
    }
   ],
   "source": [
    "# target variable percentage total by waterpoint type ('communal standpipe' and 'communal standpipe multiple')\n",
    "cs_group_df = (df.loc[df['waterpoint_type'] == 'communal standpipe']\n",
    "               ['status_group'].value_counts(normalize=True) * 100\n",
    "              )\n",
    "cs_group_df.name = 'CS'\n",
    "csm_group_df = (df.loc[df['waterpoint_type'] == 'communal standpipe multiple']\n",
    "                ['status_group'].value_counts(normalize=True) * 100\n",
    "               )\n",
    "csm_group_df.name = 'CSM'\n",
    "cs_csm_df = pd.merge(cs_group_df, csm_group_df, left_index=True, right_index=True)\n",
    "print(cs_csm_df)"
   ]
  },
  {
   "cell_type": "code",
   "execution_count": 70,
   "metadata": {},
   "outputs": [
    {
     "name": "stdout",
     "output_type": "stream",
     "text": [
      "p value is 1.0850696773302554e-244. Significant difference\n"
     ]
    }
   ],
   "source": [
    "# chi squared test for difference in 'communal standpipe' and 'communal standpipe multiple'\n",
    "cs_group_df = df.loc[df['waterpoint_type'] == 'communal standpipe']['status_group'].value_counts()\n",
    "cs_group_df.name = 'CS'\n",
    "csm_group_df = df.loc[df['waterpoint_type'] == 'communal standpipe multiple']['status_group'].value_counts()\n",
    "csm_group_df.name = 'CSM'\n",
    "cs_csm_df = pd.merge(cs_group_df, csm_group_df, left_index=True, right_index=True)\n",
    "\n",
    "_, p, _, _ = chi2_contingency(cs_csm_df)\n",
    "if p < 0.05:\n",
    "    print(f'p value is {p}. Significant difference')\n",
    "else:\n",
    "    print(f'p value is {p}. Insignificant difference')"
   ]
  },
  {
   "cell_type": "markdown",
   "metadata": {},
   "source": [
    "There is a statistically significant difference between 'communal standpipe' and 'communal standpipe multiple'. For this reason, we will keep waterpoint_type."
   ]
  },
  {
   "cell_type": "code",
   "execution_count": 71,
   "metadata": {},
   "outputs": [
    {
     "name": "stdout",
     "output_type": "stream",
     "text": [
      "Columns before removal: 26\n",
      "Columns after removal: 25\n"
     ]
    }
   ],
   "source": [
    "# drop 'waterpoint_type_group' from dataframe\n",
    "print(f\"Columns before removal: {df.shape[1]}\")\n",
    "df.drop(columns=['waterpoint_type_group'], inplace=True)\n",
    "print(f\"Columns after removal: {df.shape[1]}\")"
   ]
  },
  {
   "cell_type": "code",
   "execution_count": 72,
   "metadata": {},
   "outputs": [
    {
     "name": "stdout",
     "output_type": "stream",
     "text": [
      "(47520, 25)\n"
     ]
    },
    {
     "data": {
      "text/html": [
       "<div>\n",
       "<style scoped>\n",
       "    .dataframe tbody tr th:only-of-type {\n",
       "        vertical-align: middle;\n",
       "    }\n",
       "\n",
       "    .dataframe tbody tr th {\n",
       "        vertical-align: top;\n",
       "    }\n",
       "\n",
       "    .dataframe thead th {\n",
       "        text-align: right;\n",
       "    }\n",
       "</style>\n",
       "<table border=\"1\" class=\"dataframe\">\n",
       "  <thead>\n",
       "    <tr style=\"text-align: right;\">\n",
       "      <th></th>\n",
       "      <th>status_group</th>\n",
       "      <th>amount_tsh</th>\n",
       "      <th>date_recorded</th>\n",
       "      <th>gps_height</th>\n",
       "      <th>longitude</th>\n",
       "      <th>latitude</th>\n",
       "      <th>num_private</th>\n",
       "      <th>basin</th>\n",
       "      <th>region</th>\n",
       "      <th>region_code</th>\n",
       "      <th>...</th>\n",
       "      <th>permit</th>\n",
       "      <th>construction_year</th>\n",
       "      <th>extraction_type_group</th>\n",
       "      <th>management</th>\n",
       "      <th>payment</th>\n",
       "      <th>water_quality</th>\n",
       "      <th>quality_group</th>\n",
       "      <th>quantity</th>\n",
       "      <th>source</th>\n",
       "      <th>waterpoint_type</th>\n",
       "    </tr>\n",
       "    <tr>\n",
       "      <th>id</th>\n",
       "      <th></th>\n",
       "      <th></th>\n",
       "      <th></th>\n",
       "      <th></th>\n",
       "      <th></th>\n",
       "      <th></th>\n",
       "      <th></th>\n",
       "      <th></th>\n",
       "      <th></th>\n",
       "      <th></th>\n",
       "      <th></th>\n",
       "      <th></th>\n",
       "      <th></th>\n",
       "      <th></th>\n",
       "      <th></th>\n",
       "      <th></th>\n",
       "      <th></th>\n",
       "      <th></th>\n",
       "      <th></th>\n",
       "      <th></th>\n",
       "      <th></th>\n",
       "    </tr>\n",
       "  </thead>\n",
       "  <tbody>\n",
       "    <tr>\n",
       "      <th>454</th>\n",
       "      <td>functional</td>\n",
       "      <td>50.0</td>\n",
       "      <td>2013</td>\n",
       "      <td>2092</td>\n",
       "      <td>35.426020</td>\n",
       "      <td>-4.227446</td>\n",
       "      <td>0</td>\n",
       "      <td>Internal</td>\n",
       "      <td>Manyara</td>\n",
       "      <td>21</td>\n",
       "      <td>...</td>\n",
       "      <td>True</td>\n",
       "      <td>1998.0</td>\n",
       "      <td>gravity</td>\n",
       "      <td>water board</td>\n",
       "      <td>pay per bucket</td>\n",
       "      <td>soft</td>\n",
       "      <td>good</td>\n",
       "      <td>insufficient</td>\n",
       "      <td>spring</td>\n",
       "      <td>communal standpipe</td>\n",
       "    </tr>\n",
       "    <tr>\n",
       "      <th>510</th>\n",
       "      <td>functional</td>\n",
       "      <td>0.0</td>\n",
       "      <td>2011</td>\n",
       "      <td>0</td>\n",
       "      <td>35.510074</td>\n",
       "      <td>-5.724555</td>\n",
       "      <td>0</td>\n",
       "      <td>Internal</td>\n",
       "      <td>Dodoma</td>\n",
       "      <td>1</td>\n",
       "      <td>...</td>\n",
       "      <td>True</td>\n",
       "      <td>NaN</td>\n",
       "      <td>india mark ii</td>\n",
       "      <td>vwc</td>\n",
       "      <td>never pay</td>\n",
       "      <td>soft</td>\n",
       "      <td>good</td>\n",
       "      <td>enough</td>\n",
       "      <td>shallow well</td>\n",
       "      <td>hand pump</td>\n",
       "    </tr>\n",
       "    <tr>\n",
       "      <th>14146</th>\n",
       "      <td>non functional</td>\n",
       "      <td>0.0</td>\n",
       "      <td>2012</td>\n",
       "      <td>0</td>\n",
       "      <td>32.499866</td>\n",
       "      <td>-9.081222</td>\n",
       "      <td>0</td>\n",
       "      <td>Lake Rukwa</td>\n",
       "      <td>Mbeya</td>\n",
       "      <td>12</td>\n",
       "      <td>...</td>\n",
       "      <td>False</td>\n",
       "      <td>NaN</td>\n",
       "      <td>other</td>\n",
       "      <td>vwc</td>\n",
       "      <td>never pay</td>\n",
       "      <td>soft</td>\n",
       "      <td>good</td>\n",
       "      <td>enough</td>\n",
       "      <td>shallow well</td>\n",
       "      <td>other</td>\n",
       "    </tr>\n",
       "    <tr>\n",
       "      <th>47410</th>\n",
       "      <td>non functional</td>\n",
       "      <td>0.0</td>\n",
       "      <td>2011</td>\n",
       "      <td>0</td>\n",
       "      <td>34.060484</td>\n",
       "      <td>-8.830208</td>\n",
       "      <td>0</td>\n",
       "      <td>Rufiji</td>\n",
       "      <td>Mbeya</td>\n",
       "      <td>12</td>\n",
       "      <td>...</td>\n",
       "      <td>True</td>\n",
       "      <td>NaN</td>\n",
       "      <td>gravity</td>\n",
       "      <td>vwc</td>\n",
       "      <td>pay monthly</td>\n",
       "      <td>soft</td>\n",
       "      <td>good</td>\n",
       "      <td>insufficient</td>\n",
       "      <td>river</td>\n",
       "      <td>communal standpipe</td>\n",
       "    </tr>\n",
       "    <tr>\n",
       "      <th>1288</th>\n",
       "      <td>non functional</td>\n",
       "      <td>300.0</td>\n",
       "      <td>2011</td>\n",
       "      <td>1023</td>\n",
       "      <td>37.032690</td>\n",
       "      <td>-6.040787</td>\n",
       "      <td>0</td>\n",
       "      <td>Wami / Ruvu</td>\n",
       "      <td>Morogoro</td>\n",
       "      <td>5</td>\n",
       "      <td>...</td>\n",
       "      <td>True</td>\n",
       "      <td>1997.0</td>\n",
       "      <td>other</td>\n",
       "      <td>vwc</td>\n",
       "      <td>pay when scheme fails</td>\n",
       "      <td>salty</td>\n",
       "      <td>salty</td>\n",
       "      <td>enough</td>\n",
       "      <td>shallow well</td>\n",
       "      <td>other</td>\n",
       "    </tr>\n",
       "  </tbody>\n",
       "</table>\n",
       "<p>5 rows × 25 columns</p>\n",
       "</div>"
      ],
      "text/plain": [
       "         status_group  amount_tsh  date_recorded  gps_height  longitude  \\\n",
       "id                                                                        \n",
       "454        functional        50.0           2013        2092  35.426020   \n",
       "510        functional         0.0           2011           0  35.510074   \n",
       "14146  non functional         0.0           2012           0  32.499866   \n",
       "47410  non functional         0.0           2011           0  34.060484   \n",
       "1288   non functional       300.0           2011        1023  37.032690   \n",
       "\n",
       "       latitude  num_private        basin    region  region_code  ...  permit  \\\n",
       "id                                                                ...           \n",
       "454   -4.227446            0     Internal   Manyara           21  ...    True   \n",
       "510   -5.724555            0     Internal    Dodoma            1  ...    True   \n",
       "14146 -9.081222            0   Lake Rukwa     Mbeya           12  ...   False   \n",
       "47410 -8.830208            0       Rufiji     Mbeya           12  ...    True   \n",
       "1288  -6.040787            0  Wami / Ruvu  Morogoro            5  ...    True   \n",
       "\n",
       "      construction_year  extraction_type_group   management  \\\n",
       "id                                                            \n",
       "454              1998.0                gravity  water board   \n",
       "510                 NaN          india mark ii          vwc   \n",
       "14146               NaN                  other          vwc   \n",
       "47410               NaN                gravity          vwc   \n",
       "1288             1997.0                  other          vwc   \n",
       "\n",
       "                     payment water_quality  quality_group      quantity  \\\n",
       "id                                                                        \n",
       "454           pay per bucket          soft           good  insufficient   \n",
       "510                never pay          soft           good        enough   \n",
       "14146              never pay          soft           good        enough   \n",
       "47410            pay monthly          soft           good  insufficient   \n",
       "1288   pay when scheme fails         salty          salty        enough   \n",
       "\n",
       "             source     waterpoint_type  \n",
       "id                                       \n",
       "454          spring  communal standpipe  \n",
       "510    shallow well           hand pump  \n",
       "14146  shallow well               other  \n",
       "47410         river  communal standpipe  \n",
       "1288   shallow well               other  \n",
       "\n",
       "[5 rows x 25 columns]"
      ]
     },
     "execution_count": 72,
     "metadata": {},
     "output_type": "execute_result"
    }
   ],
   "source": [
    "# dataframe after EDA 1\n",
    "print(df.shape)\n",
    "df.head()"
   ]
  },
  {
   "cell_type": "markdown",
   "metadata": {},
   "source": [
    "## Feature Engineering 1\n",
    "\n",
    "There is some feature engineering which can be done to better represent the data, while also reducing the number of columns.\n",
    "\n",
    "As stated previously, a useful feature to engineer would be pump age, represented by: \n",
    "$$pump_{age} = date_{recorded} - date_{construction}$$"
   ]
  },
  {
   "cell_type": "code",
   "execution_count": 73,
   "metadata": {},
   "outputs": [
    {
     "data": {
      "text/plain": [
       "id\n",
       "454      15.0\n",
       "510       NaN\n",
       "14146     NaN\n",
       "47410     NaN\n",
       "1288     14.0\n",
       "13095     NaN\n",
       "558       NaN\n",
       "35626     2.0\n",
       "8696      NaN\n",
       "48650     4.0\n",
       "Name: pump_age, dtype: float64"
      ]
     },
     "execution_count": 73,
     "metadata": {},
     "output_type": "execute_result"
    }
   ],
   "source": [
    "# feature engineering 'pump_age' column\n",
    "df['pump_age'] = df['date_recorded'] - df['construction_year']\n",
    "df['pump_age'][:10]"
   ]
  },
  {
   "cell_type": "markdown",
   "metadata": {},
   "source": [
    "It's worth taking a quick look at our engineered column to make sure we don't have any glaring problems."
   ]
  },
  {
   "cell_type": "code",
   "execution_count": 74,
   "metadata": {},
   "outputs": [
    {
     "data": {
      "image/png": "[encoded data removed]",
      "text/plain": [
       "<Figure size 432x288 with 1 Axes>"
      ]
     },
     "metadata": {
      "needs_background": "light"
     },
     "output_type": "display_data"
    }
   ],
   "source": [
    "# Histogram of 'pump_age'\n",
    "df['pump_age'].hist(bins=50)\n",
    "plt.title('Histogram of pump_age');"
   ]
  },
  {
   "cell_type": "markdown",
   "metadata": {},
   "source": [
    "It's suspicious that the histogram specifies a negative value; there is a possiblity that our feature engineering has generated negative values for 'pump_age' (which is impossible; a pump can't be negative years old!)."
   ]
  },
  {
   "cell_type": "code",
   "execution_count": 75,
   "metadata": {},
   "outputs": [
    {
     "data": {
      "text/html": [
       "<div>\n",
       "<style scoped>\n",
       "    .dataframe tbody tr th:only-of-type {\n",
       "        vertical-align: middle;\n",
       "    }\n",
       "\n",
       "    .dataframe tbody tr th {\n",
       "        vertical-align: top;\n",
       "    }\n",
       "\n",
       "    .dataframe thead th {\n",
       "        text-align: right;\n",
       "    }\n",
       "</style>\n",
       "<table border=\"1\" class=\"dataframe\">\n",
       "  <thead>\n",
       "    <tr style=\"text-align: right;\">\n",
       "      <th></th>\n",
       "      <th>date_recorded</th>\n",
       "      <th>construction_year</th>\n",
       "      <th>pump_age</th>\n",
       "    </tr>\n",
       "    <tr>\n",
       "      <th>id</th>\n",
       "      <th></th>\n",
       "      <th></th>\n",
       "      <th></th>\n",
       "    </tr>\n",
       "  </thead>\n",
       "  <tbody>\n",
       "    <tr>\n",
       "      <th>15921</th>\n",
       "      <td>2004</td>\n",
       "      <td>2009.0</td>\n",
       "      <td>-5.0</td>\n",
       "    </tr>\n",
       "    <tr>\n",
       "      <th>5971</th>\n",
       "      <td>2004</td>\n",
       "      <td>2007.0</td>\n",
       "      <td>-3.0</td>\n",
       "    </tr>\n",
       "    <tr>\n",
       "      <th>53086</th>\n",
       "      <td>2004</td>\n",
       "      <td>2009.0</td>\n",
       "      <td>-5.0</td>\n",
       "    </tr>\n",
       "    <tr>\n",
       "      <th>20198</th>\n",
       "      <td>2004</td>\n",
       "      <td>2008.0</td>\n",
       "      <td>-4.0</td>\n",
       "    </tr>\n",
       "    <tr>\n",
       "      <th>9195</th>\n",
       "      <td>2004</td>\n",
       "      <td>2005.0</td>\n",
       "      <td>-1.0</td>\n",
       "    </tr>\n",
       "    <tr>\n",
       "      <th>48759</th>\n",
       "      <td>2004</td>\n",
       "      <td>2011.0</td>\n",
       "      <td>-7.0</td>\n",
       "    </tr>\n",
       "    <tr>\n",
       "      <th>20534</th>\n",
       "      <td>2004</td>\n",
       "      <td>2009.0</td>\n",
       "      <td>-5.0</td>\n",
       "    </tr>\n",
       "    <tr>\n",
       "      <th>1251</th>\n",
       "      <td>2005</td>\n",
       "      <td>2008.0</td>\n",
       "      <td>-3.0</td>\n",
       "    </tr>\n",
       "  </tbody>\n",
       "</table>\n",
       "</div>"
      ],
      "text/plain": [
       "       date_recorded  construction_year  pump_age\n",
       "id                                               \n",
       "15921           2004             2009.0      -5.0\n",
       "5971            2004             2007.0      -3.0\n",
       "53086           2004             2009.0      -5.0\n",
       "20198           2004             2008.0      -4.0\n",
       "9195            2004             2005.0      -1.0\n",
       "48759           2004             2011.0      -7.0\n",
       "20534           2004             2009.0      -5.0\n",
       "1251            2005             2008.0      -3.0"
      ]
     },
     "execution_count": 75,
     "metadata": {},
     "output_type": "execute_result"
    }
   ],
   "source": [
    "# rows with negative 'pump_age' values\n",
    "df.loc[df['pump_age'] < 0][['date_recorded', 'construction_year', 'pump_age']]"
   ]
  },
  {
   "cell_type": "markdown",
   "metadata": {},
   "source": [
    "As suspected. Clearly some of the data is inaccurate!\n",
    "\n",
    "All of the values in 'date_recorded' are from 2004 (the oldest recordings. 2005 values have been rounded up from 2004). 2004 may have been used as a placeholder value, but that assumption is shaky when 'date_recorded' has specific values for 2004 (various months and years for recordings).\n",
    "\n",
    "Most of the 'date_recorded' dates are from 2011 and later. It's worth looking at the small number of values prior to that."
   ]
  },
  {
   "cell_type": "code",
   "execution_count": 76,
   "metadata": {},
   "outputs": [
    {
     "data": {
      "text/plain": [
       "2005    15\n",
       "2004     9\n",
       "Name: date_recorded, dtype: int64"
      ]
     },
     "execution_count": 76,
     "metadata": {},
     "output_type": "execute_result"
    }
   ],
   "source": [
    "# dates in 'date_recorded' earlier than 2011\n",
    "df.loc[df['date_recorded'] < 2011]['date_recorded'].value_counts()"
   ]
  },
  {
   "cell_type": "markdown",
   "metadata": {},
   "source": [
    "There is a small group of recordings from before 2011. It is unclear if these values or accurate or not; perhaps some of the values in 'construction_year' are inaccurate as well.\n",
    "\n",
    "There are several approaches to the problem of negative values in 'pump_age'. The most clinical is to drop those rows, but dropping rows loses data in other columns that could be valuable. For now, the negative values will be converted to nulls, so as to preserve the other data."
   ]
  },
  {
   "cell_type": "code",
   "execution_count": 77,
   "metadata": {},
   "outputs": [],
   "source": [
    "# replace negative values in 'pump_age' with nulls\n",
    "df['pump_age'].mask(df['pump_age'] < 0, inplace=True)"
   ]
  },
  {
   "cell_type": "markdown",
   "metadata": {},
   "source": [
    "Since 'pump_age' has been engineered, 'date_recorded' and 'construction_year' are no longer needed."
   ]
  },
  {
   "cell_type": "code",
   "execution_count": 78,
   "metadata": {},
   "outputs": [
    {
     "name": "stdout",
     "output_type": "stream",
     "text": [
      "Columns before removal: 26\n",
      "Columns after removal: 24\n"
     ]
    }
   ],
   "source": [
    "# drop 'date_recorded' and 'construction_year'\n",
    "print(f\"Columns before removal: {df.shape[1]}\")\n",
    "df.drop(columns=['date_recorded', 'construction_year'], inplace=True)\n",
    "print(f\"Columns after removal: {df.shape[1]}\")"
   ]
  },
  {
   "cell_type": "code",
   "execution_count": 79,
   "metadata": {},
   "outputs": [
    {
     "name": "stdout",
     "output_type": "stream",
     "text": [
      "(47520, 24)\n",
      "<class 'pandas.core.frame.DataFrame'>\n",
      "Int64Index: 47520 entries, 454 to 23812\n",
      "Data columns (total 24 columns):\n",
      " #   Column                 Non-Null Count  Dtype  \n",
      "---  ------                 --------------  -----  \n",
      " 0   status_group           47520 non-null  object \n",
      " 1   amount_tsh             47520 non-null  float64\n",
      " 2   gps_height             47520 non-null  int64  \n",
      " 3   longitude              46087 non-null  float64\n",
      " 4   latitude               46087 non-null  float64\n",
      " 5   num_private            47520 non-null  int64  \n",
      " 6   basin                  47520 non-null  object \n",
      " 7   region                 47520 non-null  object \n",
      " 8   region_code            47520 non-null  int64  \n",
      " 9   district_code          47520 non-null  int64  \n",
      " 10  lga                    47520 non-null  object \n",
      " 11  population             47520 non-null  int64  \n",
      " 12  public_meeting         44831 non-null  object \n",
      " 13  scheme_management      44418 non-null  object \n",
      " 14  permit                 45081 non-null  object \n",
      " 15  extraction_type_group  47520 non-null  object \n",
      " 16  management             47520 non-null  object \n",
      " 17  payment                47520 non-null  object \n",
      " 18  water_quality          47520 non-null  object \n",
      " 19  quality_group          47520 non-null  object \n",
      " 20  quantity               47520 non-null  object \n",
      " 21  source                 47520 non-null  object \n",
      " 22  waterpoint_type        47520 non-null  object \n",
      " 23  pump_age               31009 non-null  float64\n",
      "dtypes: float64(4), int64(5), object(15)\n",
      "memory usage: 10.1+ MB\n",
      "None\n"
     ]
    },
    {
     "data": {
      "text/html": [
       "<div>\n",
       "<style scoped>\n",
       "    .dataframe tbody tr th:only-of-type {\n",
       "        vertical-align: middle;\n",
       "    }\n",
       "\n",
       "    .dataframe tbody tr th {\n",
       "        vertical-align: top;\n",
       "    }\n",
       "\n",
       "    .dataframe thead th {\n",
       "        text-align: right;\n",
       "    }\n",
       "</style>\n",
       "<table border=\"1\" class=\"dataframe\">\n",
       "  <thead>\n",
       "    <tr style=\"text-align: right;\">\n",
       "      <th></th>\n",
       "      <th>status_group</th>\n",
       "      <th>amount_tsh</th>\n",
       "      <th>gps_height</th>\n",
       "      <th>longitude</th>\n",
       "      <th>latitude</th>\n",
       "      <th>num_private</th>\n",
       "      <th>basin</th>\n",
       "      <th>region</th>\n",
       "      <th>region_code</th>\n",
       "      <th>district_code</th>\n",
       "      <th>...</th>\n",
       "      <th>permit</th>\n",
       "      <th>extraction_type_group</th>\n",
       "      <th>management</th>\n",
       "      <th>payment</th>\n",
       "      <th>water_quality</th>\n",
       "      <th>quality_group</th>\n",
       "      <th>quantity</th>\n",
       "      <th>source</th>\n",
       "      <th>waterpoint_type</th>\n",
       "      <th>pump_age</th>\n",
       "    </tr>\n",
       "    <tr>\n",
       "      <th>id</th>\n",
       "      <th></th>\n",
       "      <th></th>\n",
       "      <th></th>\n",
       "      <th></th>\n",
       "      <th></th>\n",
       "      <th></th>\n",
       "      <th></th>\n",
       "      <th></th>\n",
       "      <th></th>\n",
       "      <th></th>\n",
       "      <th></th>\n",
       "      <th></th>\n",
       "      <th></th>\n",
       "      <th></th>\n",
       "      <th></th>\n",
       "      <th></th>\n",
       "      <th></th>\n",
       "      <th></th>\n",
       "      <th></th>\n",
       "      <th></th>\n",
       "      <th></th>\n",
       "    </tr>\n",
       "  </thead>\n",
       "  <tbody>\n",
       "    <tr>\n",
       "      <th>454</th>\n",
       "      <td>functional</td>\n",
       "      <td>50.0</td>\n",
       "      <td>2092</td>\n",
       "      <td>35.426020</td>\n",
       "      <td>-4.227446</td>\n",
       "      <td>0</td>\n",
       "      <td>Internal</td>\n",
       "      <td>Manyara</td>\n",
       "      <td>21</td>\n",
       "      <td>1</td>\n",
       "      <td>...</td>\n",
       "      <td>True</td>\n",
       "      <td>gravity</td>\n",
       "      <td>water board</td>\n",
       "      <td>pay per bucket</td>\n",
       "      <td>soft</td>\n",
       "      <td>good</td>\n",
       "      <td>insufficient</td>\n",
       "      <td>spring</td>\n",
       "      <td>communal standpipe</td>\n",
       "      <td>15.0</td>\n",
       "    </tr>\n",
       "    <tr>\n",
       "      <th>510</th>\n",
       "      <td>functional</td>\n",
       "      <td>0.0</td>\n",
       "      <td>0</td>\n",
       "      <td>35.510074</td>\n",
       "      <td>-5.724555</td>\n",
       "      <td>0</td>\n",
       "      <td>Internal</td>\n",
       "      <td>Dodoma</td>\n",
       "      <td>1</td>\n",
       "      <td>6</td>\n",
       "      <td>...</td>\n",
       "      <td>True</td>\n",
       "      <td>india mark ii</td>\n",
       "      <td>vwc</td>\n",
       "      <td>never pay</td>\n",
       "      <td>soft</td>\n",
       "      <td>good</td>\n",
       "      <td>enough</td>\n",
       "      <td>shallow well</td>\n",
       "      <td>hand pump</td>\n",
       "      <td>NaN</td>\n",
       "    </tr>\n",
       "    <tr>\n",
       "      <th>14146</th>\n",
       "      <td>non functional</td>\n",
       "      <td>0.0</td>\n",
       "      <td>0</td>\n",
       "      <td>32.499866</td>\n",
       "      <td>-9.081222</td>\n",
       "      <td>0</td>\n",
       "      <td>Lake Rukwa</td>\n",
       "      <td>Mbeya</td>\n",
       "      <td>12</td>\n",
       "      <td>6</td>\n",
       "      <td>...</td>\n",
       "      <td>False</td>\n",
       "      <td>other</td>\n",
       "      <td>vwc</td>\n",
       "      <td>never pay</td>\n",
       "      <td>soft</td>\n",
       "      <td>good</td>\n",
       "      <td>enough</td>\n",
       "      <td>shallow well</td>\n",
       "      <td>other</td>\n",
       "      <td>NaN</td>\n",
       "    </tr>\n",
       "    <tr>\n",
       "      <th>47410</th>\n",
       "      <td>non functional</td>\n",
       "      <td>0.0</td>\n",
       "      <td>0</td>\n",
       "      <td>34.060484</td>\n",
       "      <td>-8.830208</td>\n",
       "      <td>0</td>\n",
       "      <td>Rufiji</td>\n",
       "      <td>Mbeya</td>\n",
       "      <td>12</td>\n",
       "      <td>7</td>\n",
       "      <td>...</td>\n",
       "      <td>True</td>\n",
       "      <td>gravity</td>\n",
       "      <td>vwc</td>\n",
       "      <td>pay monthly</td>\n",
       "      <td>soft</td>\n",
       "      <td>good</td>\n",
       "      <td>insufficient</td>\n",
       "      <td>river</td>\n",
       "      <td>communal standpipe</td>\n",
       "      <td>NaN</td>\n",
       "    </tr>\n",
       "    <tr>\n",
       "      <th>1288</th>\n",
       "      <td>non functional</td>\n",
       "      <td>300.0</td>\n",
       "      <td>1023</td>\n",
       "      <td>37.032690</td>\n",
       "      <td>-6.040787</td>\n",
       "      <td>0</td>\n",
       "      <td>Wami / Ruvu</td>\n",
       "      <td>Morogoro</td>\n",
       "      <td>5</td>\n",
       "      <td>1</td>\n",
       "      <td>...</td>\n",
       "      <td>True</td>\n",
       "      <td>other</td>\n",
       "      <td>vwc</td>\n",
       "      <td>pay when scheme fails</td>\n",
       "      <td>salty</td>\n",
       "      <td>salty</td>\n",
       "      <td>enough</td>\n",
       "      <td>shallow well</td>\n",
       "      <td>other</td>\n",
       "      <td>14.0</td>\n",
       "    </tr>\n",
       "  </tbody>\n",
       "</table>\n",
       "<p>5 rows × 24 columns</p>\n",
       "</div>"
      ],
      "text/plain": [
       "         status_group  amount_tsh  gps_height  longitude  latitude  \\\n",
       "id                                                                   \n",
       "454        functional        50.0        2092  35.426020 -4.227446   \n",
       "510        functional         0.0           0  35.510074 -5.724555   \n",
       "14146  non functional         0.0           0  32.499866 -9.081222   \n",
       "47410  non functional         0.0           0  34.060484 -8.830208   \n",
       "1288   non functional       300.0        1023  37.032690 -6.040787   \n",
       "\n",
       "       num_private        basin    region  region_code  district_code  ...  \\\n",
       "id                                                                     ...   \n",
       "454              0     Internal   Manyara           21              1  ...   \n",
       "510              0     Internal    Dodoma            1              6  ...   \n",
       "14146            0   Lake Rukwa     Mbeya           12              6  ...   \n",
       "47410            0       Rufiji     Mbeya           12              7  ...   \n",
       "1288             0  Wami / Ruvu  Morogoro            5              1  ...   \n",
       "\n",
       "      permit  extraction_type_group   management                payment  \\\n",
       "id                                                                        \n",
       "454     True                gravity  water board         pay per bucket   \n",
       "510     True          india mark ii          vwc              never pay   \n",
       "14146  False                  other          vwc              never pay   \n",
       "47410   True                gravity          vwc            pay monthly   \n",
       "1288    True                  other          vwc  pay when scheme fails   \n",
       "\n",
       "      water_quality quality_group      quantity        source  \\\n",
       "id                                                              \n",
       "454            soft          good  insufficient        spring   \n",
       "510            soft          good        enough  shallow well   \n",
       "14146          soft          good        enough  shallow well   \n",
       "47410          soft          good  insufficient         river   \n",
       "1288          salty         salty        enough  shallow well   \n",
       "\n",
       "          waterpoint_type pump_age  \n",
       "id                                  \n",
       "454    communal standpipe     15.0  \n",
       "510             hand pump      NaN  \n",
       "14146               other      NaN  \n",
       "47410  communal standpipe      NaN  \n",
       "1288                other     14.0  \n",
       "\n",
       "[5 rows x 24 columns]"
      ]
     },
     "execution_count": 79,
     "metadata": {},
     "output_type": "execute_result"
    }
   ],
   "source": [
    "# dataframe after feature engineering\n",
    "print(df.shape)\n",
    "print(df.info())\n",
    "df.head()"
   ]
  },
  {
   "cell_type": "markdown",
   "metadata": {},
   "source": [
    "## Data Wrangling 1\n",
    "\n",
    "It is valuable in the course of EDA to consolidate differences between the starting data and the data after EDA. Should we receive more data in the format of the starting data, we will want to format it in the same way as the data after EDA, and having a data wrangling function will make this process easier."
   ]
  },
  {
   "cell_type": "code",
   "execution_count": 80,
   "metadata": {},
   "outputs": [],
   "source": [
    "def wrangle1(feature_path, target_path=None):\n",
    "    # load data into dataframe\n",
    "    if target_path:\n",
    "        df = pd.merge(pd.read_csv(target_path).set_index('id'),\n",
    "                pd.read_csv(feature_path).set_index('id'),\n",
    "                left_index=True,\n",
    "                right_index=True\n",
    "                )\n",
    "    else:\n",
    "        df = pd.read_csv(feature_path).set_index('id')\n",
    "\n",
    "    # convert 'date_recorded' to rounded year integer\n",
    "    df['date_recorded'] = pd.to_datetime(df['date_recorded'])\n",
    "    def round_date_to_nearest_year(dt):\n",
    "        if dt.month <= 6:\n",
    "            return dt.year\n",
    "        else:\n",
    "            return dt.year + 1\n",
    "    df['date_recorded'] = df['date_recorded'].map(round_date_to_nearest_year)\n",
    "\n",
    "    # replace close-to-zero values in longitude and latitude with nulls\n",
    "    df['longitude'].mask(df['longitude'].between(-0.1, 0.1), inplace=True)\n",
    "    df['latitude'].mask(df['latitude'].between(-0.1, 0.1), inplace=True)\n",
    "\n",
    "    # replace zero-coded values in 'construction_year' with nulls\n",
    "    df['construction_year'].mask(df['construction_year'] == 0, inplace=True)\n",
    "\n",
    "    # drop single value column\n",
    "    df.drop(columns=['recorded_by'], inplace=True)\n",
    "\n",
    "    # drop columns with too many nulls\n",
    "    df.drop(columns=['scheme_name'], inplace=True)\n",
    "\n",
    "    # drop HCCCs\n",
    "    df.drop(columns=['funder',\n",
    "                     'installer',\n",
    "                     'wpt_name',\n",
    "                     'subvillage',\n",
    "                     'ward'],\n",
    "            inplace=True\n",
    "            )\n",
    "\n",
    "    # drop duplicate columns\n",
    "    df.drop(columns=['extraction_type',\n",
    "                     'extraction_type_class',\n",
    "                     'management_group',\n",
    "                     'payment_type',\n",
    "                     'quantity_group',\n",
    "                     'source_type',\n",
    "                     'source_class',\n",
    "                     'waterpoint_type_group'], \n",
    "            inplace=True\n",
    "            )\n",
    "\n",
    "    # feature engineering 'pump_age' column\n",
    "    df['pump_age'] = df['date_recorded'] - df['construction_year']\n",
    "    # replace negative values in 'pump_age' with nulls\n",
    "    df['pump_age'].mask(df['pump_age'] < 0, inplace=True)\n",
    "    # drop 'date_recorded' and 'construction_year'\n",
    "    df.drop(columns=['date_recorded', 'construction_year'], inplace=True)  \n",
    "\n",
    "    return df"
   ]
  },
  {
   "cell_type": "code",
   "execution_count": 81,
   "metadata": {},
   "outputs": [
    {
     "name": "stdout",
     "output_type": "stream",
     "text": [
      "(47520, 24)\n",
      "<class 'pandas.core.frame.DataFrame'>\n",
      "Int64Index: 47520 entries, 454 to 23812\n",
      "Data columns (total 24 columns):\n",
      " #   Column                 Non-Null Count  Dtype  \n",
      "---  ------                 --------------  -----  \n",
      " 0   status_group           47520 non-null  object \n",
      " 1   amount_tsh             47520 non-null  float64\n",
      " 2   gps_height             47520 non-null  int64  \n",
      " 3   longitude              46087 non-null  float64\n",
      " 4   latitude               46087 non-null  float64\n",
      " 5   num_private            47520 non-null  int64  \n",
      " 6   basin                  47520 non-null  object \n",
      " 7   region                 47520 non-null  object \n",
      " 8   region_code            47520 non-null  int64  \n",
      " 9   district_code          47520 non-null  int64  \n",
      " 10  lga                    47520 non-null  object \n",
      " 11  population             47520 non-null  int64  \n",
      " 12  public_meeting         44831 non-null  object \n",
      " 13  scheme_management      44418 non-null  object \n",
      " 14  permit                 45081 non-null  object \n",
      " 15  extraction_type_group  47520 non-null  object \n",
      " 16  management             47520 non-null  object \n",
      " 17  payment                47520 non-null  object \n",
      " 18  water_quality          47520 non-null  object \n",
      " 19  quality_group          47520 non-null  object \n",
      " 20  quantity               47520 non-null  object \n",
      " 21  source                 47520 non-null  object \n",
      " 22  waterpoint_type        47520 non-null  object \n",
      " 23  pump_age               31009 non-null  float64\n",
      "dtypes: float64(4), int64(5), object(15)\n",
      "memory usage: 10.1+ MB\n",
      "None\n"
     ]
    },
    {
     "data": {
      "text/html": [
       "<div>\n",
       "<style scoped>\n",
       "    .dataframe tbody tr th:only-of-type {\n",
       "        vertical-align: middle;\n",
       "    }\n",
       "\n",
       "    .dataframe tbody tr th {\n",
       "        vertical-align: top;\n",
       "    }\n",
       "\n",
       "    .dataframe thead th {\n",
       "        text-align: right;\n",
       "    }\n",
       "</style>\n",
       "<table border=\"1\" class=\"dataframe\">\n",
       "  <thead>\n",
       "    <tr style=\"text-align: right;\">\n",
       "      <th></th>\n",
       "      <th>status_group</th>\n",
       "      <th>amount_tsh</th>\n",
       "      <th>gps_height</th>\n",
       "      <th>longitude</th>\n",
       "      <th>latitude</th>\n",
       "      <th>num_private</th>\n",
       "      <th>basin</th>\n",
       "      <th>region</th>\n",
       "      <th>region_code</th>\n",
       "      <th>district_code</th>\n",
       "      <th>...</th>\n",
       "      <th>permit</th>\n",
       "      <th>extraction_type_group</th>\n",
       "      <th>management</th>\n",
       "      <th>payment</th>\n",
       "      <th>water_quality</th>\n",
       "      <th>quality_group</th>\n",
       "      <th>quantity</th>\n",
       "      <th>source</th>\n",
       "      <th>waterpoint_type</th>\n",
       "      <th>pump_age</th>\n",
       "    </tr>\n",
       "    <tr>\n",
       "      <th>id</th>\n",
       "      <th></th>\n",
       "      <th></th>\n",
       "      <th></th>\n",
       "      <th></th>\n",
       "      <th></th>\n",
       "      <th></th>\n",
       "      <th></th>\n",
       "      <th></th>\n",
       "      <th></th>\n",
       "      <th></th>\n",
       "      <th></th>\n",
       "      <th></th>\n",
       "      <th></th>\n",
       "      <th></th>\n",
       "      <th></th>\n",
       "      <th></th>\n",
       "      <th></th>\n",
       "      <th></th>\n",
       "      <th></th>\n",
       "      <th></th>\n",
       "      <th></th>\n",
       "    </tr>\n",
       "  </thead>\n",
       "  <tbody>\n",
       "    <tr>\n",
       "      <th>454</th>\n",
       "      <td>functional</td>\n",
       "      <td>50.0</td>\n",
       "      <td>2092</td>\n",
       "      <td>35.426020</td>\n",
       "      <td>-4.227446</td>\n",
       "      <td>0</td>\n",
       "      <td>Internal</td>\n",
       "      <td>Manyara</td>\n",
       "      <td>21</td>\n",
       "      <td>1</td>\n",
       "      <td>...</td>\n",
       "      <td>True</td>\n",
       "      <td>gravity</td>\n",
       "      <td>water board</td>\n",
       "      <td>pay per bucket</td>\n",
       "      <td>soft</td>\n",
       "      <td>good</td>\n",
       "      <td>insufficient</td>\n",
       "      <td>spring</td>\n",
       "      <td>communal standpipe</td>\n",
       "      <td>15.0</td>\n",
       "    </tr>\n",
       "    <tr>\n",
       "      <th>510</th>\n",
       "      <td>functional</td>\n",
       "      <td>0.0</td>\n",
       "      <td>0</td>\n",
       "      <td>35.510074</td>\n",
       "      <td>-5.724555</td>\n",
       "      <td>0</td>\n",
       "      <td>Internal</td>\n",
       "      <td>Dodoma</td>\n",
       "      <td>1</td>\n",
       "      <td>6</td>\n",
       "      <td>...</td>\n",
       "      <td>True</td>\n",
       "      <td>india mark ii</td>\n",
       "      <td>vwc</td>\n",
       "      <td>never pay</td>\n",
       "      <td>soft</td>\n",
       "      <td>good</td>\n",
       "      <td>enough</td>\n",
       "      <td>shallow well</td>\n",
       "      <td>hand pump</td>\n",
       "      <td>NaN</td>\n",
       "    </tr>\n",
       "    <tr>\n",
       "      <th>14146</th>\n",
       "      <td>non functional</td>\n",
       "      <td>0.0</td>\n",
       "      <td>0</td>\n",
       "      <td>32.499866</td>\n",
       "      <td>-9.081222</td>\n",
       "      <td>0</td>\n",
       "      <td>Lake Rukwa</td>\n",
       "      <td>Mbeya</td>\n",
       "      <td>12</td>\n",
       "      <td>6</td>\n",
       "      <td>...</td>\n",
       "      <td>False</td>\n",
       "      <td>other</td>\n",
       "      <td>vwc</td>\n",
       "      <td>never pay</td>\n",
       "      <td>soft</td>\n",
       "      <td>good</td>\n",
       "      <td>enough</td>\n",
       "      <td>shallow well</td>\n",
       "      <td>other</td>\n",
       "      <td>NaN</td>\n",
       "    </tr>\n",
       "    <tr>\n",
       "      <th>47410</th>\n",
       "      <td>non functional</td>\n",
       "      <td>0.0</td>\n",
       "      <td>0</td>\n",
       "      <td>34.060484</td>\n",
       "      <td>-8.830208</td>\n",
       "      <td>0</td>\n",
       "      <td>Rufiji</td>\n",
       "      <td>Mbeya</td>\n",
       "      <td>12</td>\n",
       "      <td>7</td>\n",
       "      <td>...</td>\n",
       "      <td>True</td>\n",
       "      <td>gravity</td>\n",
       "      <td>vwc</td>\n",
       "      <td>pay monthly</td>\n",
       "      <td>soft</td>\n",
       "      <td>good</td>\n",
       "      <td>insufficient</td>\n",
       "      <td>river</td>\n",
       "      <td>communal standpipe</td>\n",
       "      <td>NaN</td>\n",
       "    </tr>\n",
       "    <tr>\n",
       "      <th>1288</th>\n",
       "      <td>non functional</td>\n",
       "      <td>300.0</td>\n",
       "      <td>1023</td>\n",
       "      <td>37.032690</td>\n",
       "      <td>-6.040787</td>\n",
       "      <td>0</td>\n",
       "      <td>Wami / Ruvu</td>\n",
       "      <td>Morogoro</td>\n",
       "      <td>5</td>\n",
       "      <td>1</td>\n",
       "      <td>...</td>\n",
       "      <td>True</td>\n",
       "      <td>other</td>\n",
       "      <td>vwc</td>\n",
       "      <td>pay when scheme fails</td>\n",
       "      <td>salty</td>\n",
       "      <td>salty</td>\n",
       "      <td>enough</td>\n",
       "      <td>shallow well</td>\n",
       "      <td>other</td>\n",
       "      <td>14.0</td>\n",
       "    </tr>\n",
       "  </tbody>\n",
       "</table>\n",
       "<p>5 rows × 24 columns</p>\n",
       "</div>"
      ],
      "text/plain": [
       "         status_group  amount_tsh  gps_height  longitude  latitude  \\\n",
       "id                                                                   \n",
       "454        functional        50.0        2092  35.426020 -4.227446   \n",
       "510        functional         0.0           0  35.510074 -5.724555   \n",
       "14146  non functional         0.0           0  32.499866 -9.081222   \n",
       "47410  non functional         0.0           0  34.060484 -8.830208   \n",
       "1288   non functional       300.0        1023  37.032690 -6.040787   \n",
       "\n",
       "       num_private        basin    region  region_code  district_code  ...  \\\n",
       "id                                                                     ...   \n",
       "454              0     Internal   Manyara           21              1  ...   \n",
       "510              0     Internal    Dodoma            1              6  ...   \n",
       "14146            0   Lake Rukwa     Mbeya           12              6  ...   \n",
       "47410            0       Rufiji     Mbeya           12              7  ...   \n",
       "1288             0  Wami / Ruvu  Morogoro            5              1  ...   \n",
       "\n",
       "      permit  extraction_type_group   management                payment  \\\n",
       "id                                                                        \n",
       "454     True                gravity  water board         pay per bucket   \n",
       "510     True          india mark ii          vwc              never pay   \n",
       "14146  False                  other          vwc              never pay   \n",
       "47410   True                gravity          vwc            pay monthly   \n",
       "1288    True                  other          vwc  pay when scheme fails   \n",
       "\n",
       "      water_quality quality_group      quantity        source  \\\n",
       "id                                                              \n",
       "454            soft          good  insufficient        spring   \n",
       "510            soft          good        enough  shallow well   \n",
       "14146          soft          good        enough  shallow well   \n",
       "47410          soft          good  insufficient         river   \n",
       "1288          salty         salty        enough  shallow well   \n",
       "\n",
       "          waterpoint_type pump_age  \n",
       "id                                  \n",
       "454    communal standpipe     15.0  \n",
       "510             hand pump      NaN  \n",
       "14146               other      NaN  \n",
       "47410  communal standpipe      NaN  \n",
       "1288                other     14.0  \n",
       "\n",
       "[5 rows x 24 columns]"
      ]
     },
     "execution_count": 81,
     "metadata": {},
     "output_type": "execute_result"
    }
   ],
   "source": [
    "# dataframe after wrangle (should match dataframe after EDA and feature engineering)\n",
    "df = wrangle1('train_features.csv', 'train_labels.csv')\n",
    "print(df.shape)\n",
    "print(df.info())\n",
    "df.head()"
   ]
  },
  {
   "cell_type": "markdown",
   "metadata": {},
   "source": [
    "## Baseline\n",
    "\n",
    "Since the metric used for analysis in this notebook is classification accuracy, a fair baseline would be the accuracy if all wells were classified to the status with the highest overall percentage in the dataset."
   ]
  },
  {
   "cell_type": "code",
   "execution_count": 82,
   "metadata": {},
   "outputs": [
    {
     "data": {
      "text/plain": [
       "functional                 0.542971\n",
       "non functional             0.384091\n",
       "functional needs repair    0.072938\n",
       "Name: status_group, dtype: float64"
      ]
     },
     "execution_count": 82,
     "metadata": {},
     "output_type": "execute_result"
    }
   ],
   "source": [
    "# percentage of wells by 'status_group'\n",
    "df['status_group'].value_counts(normalize=True)"
   ]
  },
  {
   "cell_type": "markdown",
   "metadata": {},
   "source": [
    "The highest percentage status is 'functional' with 54.2971%. This will be the baseline accuracy."
   ]
  },
  {
   "cell_type": "markdown",
   "metadata": {},
   "source": [
    "## Machine Learning 1"
   ]
  },
  {
   "cell_type": "markdown",
   "metadata": {},
   "source": [
    "### Note on Accuracy Metric\n",
    "There are two sets of features (data) and targets (well status). The training set is fully available, and is used throughout this analysis. The testing features are provided (\"test_features.csv\") but the testing targets are hidden on Kaggle and are unavailable for use. In lieu of verification for the predictions of the final model operating on the testing features, this analysis will use the mean cross-validation accuracy score across 10 folds on the training data as an accuracy metric."
   ]
  },
  {
   "cell_type": "markdown",
   "metadata": {},
   "source": [
    "### Split Features and Targets\n",
    "\n",
    "Before running the machine learning models, the features and target variables must be split."
   ]
  },
  {
   "cell_type": "code",
   "execution_count": 83,
   "metadata": {},
   "outputs": [],
   "source": [
    "# separate feature matrix and target vector\n",
    "X = df.drop(columns=['status_group'])\n",
    "y = df['status_group']"
   ]
  },
  {
   "cell_type": "markdown",
   "metadata": {},
   "source": [
    "### Machine Learning Models 1\n",
    "\n",
    "There are a number of machine learning models that are usable for classification. The first round of model building will use default values to get a general idea for which models are most accurate. These models will be tested:\n",
    "1. Multinomial Logistic Regression\n",
    "2. Decision Tree Classifier\n",
    "3. Random Forest Classifier\n",
    "4. XGBoost Classifier\n",
    "\n",
    "For the first set of models, a simple ordinal encoder will be used to encode the categorical features, and a simple imputer (single imputing type) will be used to impute null values."
   ]
  },
  {
   "cell_type": "code",
   "execution_count": 84,
   "metadata": {},
   "outputs": [],
   "source": [
    "# Multinomial Logistic Regression Model\n",
    "model_mlr = make_pipeline(\n",
    "    OrdinalEncoder(),\n",
    "    SimpleImputer(),\n",
    "    LogisticRegression(multi_class='multinomial', random_state=42, n_jobs=-1)\n",
    ")"
   ]
  },
  {
   "cell_type": "code",
   "execution_count": 85,
   "metadata": {},
   "outputs": [],
   "source": [
    "# Decision Tree Classifier Model\n",
    "model_dt = make_pipeline(\n",
    "    OrdinalEncoder(),\n",
    "    SimpleImputer(),\n",
    "    DecisionTreeClassifier(random_state=42)\n",
    ")"
   ]
  },
  {
   "cell_type": "code",
   "execution_count": 86,
   "metadata": {},
   "outputs": [],
   "source": [
    "# Random Forest Classifier Model\n",
    "model_rf = make_pipeline(\n",
    "    OrdinalEncoder(),\n",
    "    SimpleImputer(),\n",
    "    RandomForestClassifier(random_state=42, n_jobs=-1)\n",
    ")"
   ]
  },
  {
   "cell_type": "code",
   "execution_count": 87,
   "metadata": {},
   "outputs": [],
   "source": [
    "model_xgb = make_pipeline(\n",
    "    OrdinalEncoder(),\n",
    "    SimpleImputer(),\n",
    "    XGBClassifier(random_state=42, n_jobs=-1)\n",
    ")"
   ]
  },
  {
   "cell_type": "code",
   "execution_count": 88,
   "metadata": {},
   "outputs": [],
   "source": [
    "# cross validation for multinomial logistic regression\n",
    "cv_score_mlr = cross_val_score(model_mlr, X, y, cv=10, n_jobs=-1)"
   ]
  },
  {
   "cell_type": "code",
   "execution_count": 89,
   "metadata": {},
   "outputs": [],
   "source": [
    "# cross validation for decision tree classifier\n",
    "cv_score_dt = cross_val_score(model_dt, X, y, cv=10, n_jobs=-1)"
   ]
  },
  {
   "cell_type": "code",
   "execution_count": 90,
   "metadata": {},
   "outputs": [],
   "source": [
    "# cross validation for random forest classifier\n",
    "cv_score_rf = cross_val_score(model_rf, X, y, cv=10, n_jobs=-1)"
   ]
  },
  {
   "cell_type": "code",
   "execution_count": 91,
   "metadata": {},
   "outputs": [],
   "source": [
    "cv_score_xgb = cross_val_score(model_xgb, X, y, cv=10, n_jobs=-1)"
   ]
  },
  {
   "cell_type": "code",
   "execution_count": 92,
   "metadata": {},
   "outputs": [
    {
     "name": "stdout",
     "output_type": "stream",
     "text": [
      "MLR cross validation mean accuracy: 0.595138888888889\n",
      "MLR cross validation standard deviation: 0.020479914312686046\n",
      "\n",
      "\n",
      "Decision Tree cross validation mean accuracy: 0.7522306397306397\n",
      "Decision Tree cross validation standard deviation: 0.0055606547356612055\n",
      "\n",
      "\n",
      "Random Forest cross validation mean accuracy: 0.8014309764309765\n",
      "Random Forest validation standard deviation: 0.004260207371085711\n",
      "\n",
      "\n",
      "XGBoost cross validation mean accuracy: 0.7934764309764311\n",
      "XGBoost validation standard deviation: 0.0025361018342058604\n"
     ]
    }
   ],
   "source": [
    "# scores for each model\n",
    "print(\"MLR cross validation mean accuracy:\", cv_score_mlr.mean())\n",
    "print(\"MLR cross validation standard deviation:\", cv_score_mlr.std())\n",
    "print('\\n')\n",
    "print(\"Decision Tree cross validation mean accuracy:\", cv_score_dt.mean())\n",
    "print(\"Decision Tree cross validation standard deviation:\", cv_score_dt.std())\n",
    "print('\\n')\n",
    "print(\"Random Forest cross validation mean accuracy:\", cv_score_rf.mean())\n",
    "print(\"Random Forest validation standard deviation:\", cv_score_rf.std())\n",
    "print('\\n')\n",
    "print(\"XGBoost cross validation mean accuracy:\", cv_score_xgb.mean())\n",
    "print(\"XGBoost validation standard deviation:\", cv_score_xgb.std())"
   ]
  },
  {
   "cell_type": "markdown",
   "metadata": {},
   "source": [
    "The accuracy results are clearly in favor of the tree-based classifiers. Each has its own perks and drawbacks:\n",
    "- Decision tree is easier to \"see into\": a flowchart can be created to see the decisions (variables) in the data which have the most impact.\n",
    "- Random forest ensemble is likely to produce more accurate results due to the majority voting structure.\n",
    "- XGBoost, through iterations, has the greatest capacity to hone its ability to categorize accurately.\n",
    "\n",
    "All three methods benefit from hyperparameter tuning, though XGBoost is the most likely to see a considerable increase, as its \"out-of-the-box\" analysis is generally lacking compared to its counterparts."
   ]
  },
  {
   "cell_type": "markdown",
   "metadata": {},
   "source": [
    "### Model Analysis 1\n",
    "\n",
    "Though these simple models have not yet been tuned, it is worth exploring what features they deem to be most important in determining well status."
   ]
  },
  {
   "cell_type": "code",
   "execution_count": 93,
   "metadata": {},
   "outputs": [
    {
     "data": {
      "image/png": "[encoded data removed]",
      "text/plain": [
       "<Figure size 432x288 with 1 Axes>"
      ]
     },
     "metadata": {
      "needs_background": "light"
     },
     "output_type": "display_data"
    }
   ],
   "source": [
    "# Make a horizontal bar chart of the most important features in decision tree model\n",
    "model_dt.fit(X, y)\n",
    "features = X.columns\n",
    "importances = model_dt.named_steps['decisiontreeclassifier'].feature_importances_\n",
    "feat_imp = pd.Series(data= importances, index= features).sort_values(key= abs).tail(12).plot(kind= 'barh')\n",
    "plt.xlabel('Features')\n",
    "plt.ylabel('Importance')\n",
    "plt.title('Feature Importances in Decision Tree Classifier');"
   ]
  },
  {
   "cell_type": "code",
   "execution_count": 94,
   "metadata": {},
   "outputs": [
    {
     "data": {
      "image/png": "[encoded data removed]",
      "text/plain": [
       "<Figure size 432x288 with 1 Axes>"
      ]
     },
     "metadata": {
      "needs_background": "light"
     },
     "output_type": "display_data"
    }
   ],
   "source": [
    "# Make a horizontal bar chart of the most important features in random forest model\n",
    "model_rf.fit(X, y)\n",
    "features = X.columns\n",
    "importances = model_rf.named_steps['randomforestclassifier'].feature_importances_\n",
    "feat_imp = pd.Series(data= importances, index= features).sort_values(key= abs).tail(12).plot(kind= 'barh')\n",
    "plt.xlabel('Features')\n",
    "plt.ylabel('Importance')\n",
    "plt.title('Feature Importances in Random Forest Classifier');"
   ]
  },
  {
   "cell_type": "code",
   "execution_count": 95,
   "metadata": {},
   "outputs": [
    {
     "name": "stdout",
     "output_type": "stream",
     "text": [
      "[15:36:58] WARNING: D:\\bld\\xgboost-split_1645118015404\\work\\src\\learner.cc:1115: Starting in XGBoost 1.3.0, the default evaluation metric used with the objective 'multi:softprob' was changed from 'merror' to 'mlogloss'. Explicitly set eval_metric if you'd like to restore the old behavior.\n"
     ]
    },
    {
     "data": {
      "image/png": "[encoded data removed]",
      "text/plain": [
       "<Figure size 432x288 with 1 Axes>"
      ]
     },
     "metadata": {
      "needs_background": "light"
     },
     "output_type": "display_data"
    }
   ],
   "source": [
    "# Make a horizontal bar chart of the most important features in xgboost model\n",
    "model_xgb.fit(X, y)\n",
    "features = X.columns\n",
    "importances = model_xgb.named_steps['xgbclassifier'].feature_importances_\n",
    "feat_imp = pd.Series(data= importances, index= features).sort_values(key= abs).tail(12).plot(kind= 'barh')\n",
    "plt.xlabel('Features')\n",
    "plt.ylabel('Importance')\n",
    "plt.title('Feature Importances in XGBoost Classifier');"
   ]
  },
  {
   "cell_type": "markdown",
   "metadata": {},
   "source": [
    "An interesting result! Both of the standard tree classifiers deem geographical location to be the strongest indicator of well status. The XGBoost classifier, however, seems to think geographical location is irrelevant compared to some other features.\n",
    "\n",
    "Among all three models, quantity and waterpoint type score highly (within top 5 in all models). Pump age is also a significant indicator, although the XGBoost model does not rate it as highly as the standard tree classifiers."
   ]
  },
  {
   "cell_type": "markdown",
   "metadata": {},
   "source": [
    "### Hyperparameter Tuning 1\n",
    "\n",
    "The out-of-the-box models are providing reasonable results, but squeezing out any additional accuracy is a plus. It's worth tweaking some of the internal levers and knobs inside the models to make its predictions more accurate and robust."
   ]
  },
  {
   "cell_type": "markdown",
   "metadata": {},
   "source": [
    "For all models, the accuracy may benefit from imputing methods other than 'mean'. The model will be allowed to decide which method works best."
   ]
  },
  {
   "cell_type": "markdown",
   "metadata": {},
   "source": [
    "#### Decision Tree\n",
    "\n",
    "For the decision tree model, a handful of methods should provide the most benefit when tuned:\n",
    "1. min_samples_leaf: restricts the total number of samples a final grouping must have. The model will make fewer decisions with a greater min_samples_leaf, preventing overfitting.\n",
    "2. max_depth: restricts the number of decisions the tree can make along any particular branch. Works in conjunction with min_samples_leaf and prevents overfitting.\n",
    "3. class_weight: changes how the model favors one classification over another. Since the classifications are mildly imbalanced, the model may benefit from weight balancing."
   ]
  },
  {
   "cell_type": "code",
   "execution_count": 96,
   "metadata": {},
   "outputs": [
    {
     "name": "stdout",
     "output_type": "stream",
     "text": [
      "0.7678872053872053\n",
      "{'decisiontreeclassifier__class_weight': None, 'decisiontreeclassifier__max_depth': 20, 'decisiontreeclassifier__min_samples_leaf': 10, 'simpleimputer__strategy': 'most_frequent'}\n"
     ]
    }
   ],
   "source": [
    "# DECISION TREE\n",
    "# set parameter grid for search\n",
    "param_grid = {\n",
    "    'simpleimputer__strategy' : ['mean', 'median', 'most_frequent'],\n",
    "    'decisiontreeclassifier__min_samples_leaf' : [1, 10, 50, 100],\n",
    "    'decisiontreeclassifier__max_depth' : [10, 20, 50, 100],\n",
    "    'decisiontreeclassifier__class_weight' : [None, 'balanced']\n",
    "}\n",
    "\n",
    "# grid search on best set of parameter combinations\n",
    "model_dt_gs = GridSearchCV(\n",
    "    model_dt,\n",
    "    param_grid= param_grid,\n",
    "    n_jobs=-1,\n",
    "    cv=10\n",
    ")\n",
    "model_dt_gs.fit(X, y)\n",
    "\n",
    "# show best result\n",
    "print(model_dt_gs.best_score_)\n",
    "print(model_dt_gs.best_params_)"
   ]
  },
  {
   "cell_type": "markdown",
   "metadata": {},
   "source": [
    "A minor increase in accuracy. Decision Tree does not measure up to the base accuracies of the other models."
   ]
  },
  {
   "cell_type": "markdown",
   "metadata": {},
   "source": [
    "#### Random Forest\n",
    "\n",
    "The Random Forest model will most benefit from the following parameters:\n",
    "1. n_estimators: total number of trees voting. Increases accuracy at the cost of computational power. Too many trees may cause overfitting.\n",
    "2. min_samples_leaf: same reasoning as with Decision Tree.\n",
    "3. class_weight: same reasoning as with Decision Tree.\n",
    "4. max_samples: determines the total number of samples a tree can use for training. A good max_samples can find create a diverse set of trees while giving them enough samples to make intelligent predictions."
   ]
  },
  {
   "cell_type": "code",
   "execution_count": 97,
   "metadata": {},
   "outputs": [
    {
     "name": "stdout",
     "output_type": "stream",
     "text": [
      "Fitting 5 folds for each of 36 candidates, totalling 180 fits\n",
      "0.804313973063973\n",
      "{'randomforestclassifier__max_samples': 16000, 'randomforestclassifier__n_estimators': 200, 'simpleimputer__strategy': 'mean'}\n"
     ]
    }
   ],
   "source": [
    "# RANDOM FOREST\n",
    "# set parameter grid for search\n",
    "param_grid = {\n",
    "    'simpleimputer__strategy' : ['mean', 'median', 'most_frequent'],\n",
    "    'randomforestclassifier__n_estimators' : [100, 150, 200],\n",
    "    # 'randomforestclassifier__min_samples_leaf' : [1, 10, 20, 50],\n",
    "    # 'randomforestclassifier__class_weight' : [None, 'balanced', 'balanced_subsample'],\n",
    "    'randomforestclassifier__max_samples' : [None, 8000, 16000, 24000]\n",
    "}\n",
    "\n",
    "# grid search on best set of parameter combinations\n",
    "model_rf_gs = GridSearchCV(\n",
    "    model_rf,\n",
    "    param_grid= param_grid,\n",
    "    n_jobs=-1,\n",
    "    cv=5,\n",
    "    verbose=1\n",
    ")\n",
    "model_rf_gs.fit(X, y)\n",
    "\n",
    "# show best result\n",
    "print(model_rf_gs.best_score_)\n",
    "print(model_rf_gs.best_params_)"
   ]
  },
  {
   "cell_type": "markdown",
   "metadata": {},
   "source": [
    "A minor increase in accuracy. However, further tuning may provide even greater accuracy."
   ]
  },
  {
   "cell_type": "markdown",
   "metadata": {},
   "source": [
    "#### XGBoost\n",
    "\n",
    "The XGBoost model will most benefit from the following parameters:\n",
    "1. n_estimators: the number of iterations the decision tree will go through. An ideal n_estimators prevents overfitting or underfitting.\n",
    "2. learning_rate: how much weight the tree applies to its innaccurate predictions. Too high a learning rate will cause the model to always overshoot the optimal prediction. Too low, and the model may undershoot.\n",
    "3. max_depth: same reasoning as Decision Tree and Random Forest."
   ]
  },
  {
   "cell_type": "code",
   "execution_count": 98,
   "metadata": {},
   "outputs": [
    {
     "name": "stdout",
     "output_type": "stream",
     "text": [
      "Fitting 5 folds for each of 10 candidates, totalling 50 fits\n",
      "[15:42:29] WARNING: D:\\bld\\xgboost-split_1645118015404\\work\\src\\learner.cc:1115: Starting in XGBoost 1.3.0, the default evaluation metric used with the objective 'multi:softprob' was changed from 'merror' to 'mlogloss'. Explicitly set eval_metric if you'd like to restore the old behavior.\n",
      "0.8037247474747474\n",
      "{'xgbclassifier__n_estimators': 300, 'xgbclassifier__max_depth': 9, 'xgbclassifier__learning_rate': 0.15, 'simpleimputer__strategy': 'median'}\n"
     ]
    }
   ],
   "source": [
    "# XGBOOST\n",
    "# set parameter grid for search\n",
    "param_grid = {\n",
    "    'simpleimputer__strategy' : ['mean', 'median', 'most_frequent'],\n",
    "    'xgbclassifier__n_estimators' : [100, 200, 300],\n",
    "    'xgbclassifier__learning_rate' : [0.15, 0.2, 0.25],\n",
    "    'xgbclassifier__max_depth' : range(8, 13)\n",
    "}\n",
    "\n",
    "# randomized search on best set of parameter combinations\n",
    "model_xgb_gs = RandomizedSearchCV(\n",
    "    model_xgb,\n",
    "    param_distributions= param_grid,\n",
    "    n_iter= 10,\n",
    "    n_jobs=-1,\n",
    "    cv=5,\n",
    "    verbose=1\n",
    ")\n",
    "model_xgb_gs.fit(X, y)\n",
    "\n",
    "# show best result\n",
    "print(model_xgb_gs.best_score_)\n",
    "print(model_xgb_gs.best_params_)"
   ]
  },
  {
   "cell_type": "markdown",
   "metadata": {},
   "source": [
    "A decent accuracy, but the greatest increase over the base model."
   ]
  }
 ],
 "metadata": {
  "kernelspec": {
   "display_name": "Python 3.9.7",
   "language": "python",
   "name": "python3"
  },
  "language_info": {
   "codemirror_mode": {
    "name": "ipython",
    "version": 3
   },
   "file_extension": ".py",
   "mimetype": "text/x-python",
   "name": "python",
   "nbconvert_exporter": "python",
   "pygments_lexer": "ipython3",
   "version": "3.9.7"
  },
  "orig_nbformat": 4,
  "vscode": {
   "interpreter": {
    "hash": "a06b42d020643216cfcb54e5e7a098096a231d6e10f4d2034ebec4a061cad178"
   }
  }
 },
 "nbformat": 4,
 "nbformat_minor": 2
}
